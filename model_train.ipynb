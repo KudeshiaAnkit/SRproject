{
  "nbformat": 4,
  "nbformat_minor": 0,
  "metadata": {
    "colab": {
      "name": "model_train.ipynb",
      "provenance": [],
      "authorship_tag": "ABX9TyOCGzM2ULpghWFGhjR8bnsI",
      "include_colab_link": true
    },
    "kernelspec": {
      "name": "python3",
      "display_name": "Python 3"
    }
  },
  "cells": [
    {
      "cell_type": "markdown",
      "metadata": {
        "id": "view-in-github",
        "colab_type": "text"
      },
      "source": [
        "<a href=\"https://colab.research.google.com/github/KudeshiaAnkit/SRproject/blob/master/model_train.ipynb\" target=\"_parent\"><img src=\"https://colab.research.google.com/assets/colab-badge.svg\" alt=\"Open In Colab\"/></a>"
      ]
    },
    {
      "cell_type": "code",
      "metadata": {
        "id": "Hjs6QDFXLjAq",
        "colab_type": "code",
        "colab": {
          "base_uri": "https://localhost:8080/",
          "height": 35
        },
        "outputId": "2744cac7-50f4-4363-f4ec-09536933cd9b"
      },
      "source": [
        "# check opencv version\n",
        "import cv2\n",
        "# print version number\n",
        "print(cv2.__version__)"
      ],
      "execution_count": null,
      "outputs": [
        {
          "output_type": "stream",
          "text": [
            "4.1.2\n"
          ],
          "name": "stdout"
        }
      ]
    },
    {
      "cell_type": "code",
      "metadata": {
        "id": "l7AX3HeUCmx2",
        "colab_type": "code",
        "colab": {
          "base_uri": "https://localhost:8080/",
          "height": 52
        },
        "outputId": "7a6d3f96-175c-40fb-9d4a-0c6ca0dc2383"
      },
      "source": [
        "# example of face detection with opencv cascade classifier\n",
        "from cv2 import imread\n",
        "from cv2 import CascadeClassifier\n",
        "# load the photograph\n",
        "pixels = imread('test1.jpg')\n",
        "# load the pre-trained model\n",
        "classifier = CascadeClassifier('haarcascade_frontalface_default.xml')\n",
        "# perform face detection\n",
        "bboxes = classifier.detectMultiScale(pixels)\n",
        "# print bounding box for each detected face\n",
        "for box in bboxes:\n",
        "\tprint(box)"
      ],
      "execution_count": null,
      "outputs": [
        {
          "output_type": "stream",
          "text": [
            "[174  75 107 107]\n",
            "[360 102 101 101]\n"
          ],
          "name": "stdout"
        }
      ]
    },
    {
      "cell_type": "code",
      "metadata": {
        "id": "q_dG-dtrC_xJ",
        "colab_type": "code",
        "colab": {}
      },
      "source": [
        "# plot photo with detected faces using opencv cascade classifier\n",
        "from cv2 import imread\n",
        "from cv2 import imshow\n",
        "from cv2 import waitKey\n",
        "from cv2 import destroyAllWindows\n",
        "from cv2 import CascadeClassifier\n",
        "from cv2 import rectangle\n",
        "import matplotlib.pyplot as plt\n",
        "# load the photograph\n",
        "pixels = imread('test2.jpg')\n",
        "# load the pre-trained model\n",
        "classifier = CascadeClassifier('haarcascade_frontalface_default.xml')\n",
        "# perform face detection\n",
        "bboxes = classifier.detectMultiScale(pixels)\n",
        "# print bounding box for each detected face\n",
        "for box in bboxes:\n",
        "\t# extract\n",
        "\tx, y, width, height = box\n",
        "\tx2, y2 = x + width, y + height\n",
        "\t# draw a rectangle over the pixels\n",
        "\trectangle(pixels, (x, y), (x2, y2), (0,0,255), 1)\n",
        "# show the image\n",
        "plt.imsave('image_new.jpg',pixels )\n",
        "#imshow('face detection', pixels)\n",
        "# keep the window open until we press a key\n",
        "waitKey(0)\n",
        "# close the window\n",
        "destroyAllWindows()"
      ],
      "execution_count": null,
      "outputs": []
    }
  ]
}