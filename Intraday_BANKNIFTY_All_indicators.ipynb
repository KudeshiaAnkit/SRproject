{
  "nbformat": 4,
  "nbformat_minor": 0,
  "metadata": {
    "colab": {
      "provenance": [],
      "machine_shape": "hm",
      "include_colab_link": true
    },
    "kernelspec": {
      "name": "python3",
      "display_name": "Python 3"
    },
    "language_info": {
      "name": "python"
    },
    "accelerator": "GPU",
    "gpuClass": "standard"
  },
  "cells": [
    {
      "cell_type": "markdown",
      "metadata": {
        "id": "view-in-github",
        "colab_type": "text"
      },
      "source": [
        "<a href=\"https://colab.research.google.com/github/KudeshiaAnkit/SRproject/blob/master/Intraday_BANKNIFTY_All_indicators.ipynb\" target=\"_parent\"><img src=\"https://colab.research.google.com/assets/colab-badge.svg\" alt=\"Open In Colab\"/></a>"
      ]
    },
    {
      "cell_type": "code",
      "execution_count": null,
      "metadata": {
        "colab": {
          "base_uri": "https://localhost:8080/"
        },
        "id": "tezi76BQC3_l",
        "outputId": "16d3c86d-025b-4d46-e617-9ccb06a29f57"
      },
      "outputs": [
        {
          "output_type": "stream",
          "name": "stdout",
          "text": [
            "Downloading...\n",
            "From: https://drive.google.com/uc?id=1TqAMxBVYVmyuX78-OhCJy8L1epZjicUF\n",
            "To: /content/itrade.db\n",
            "100% 245M/245M [00:01<00:00, 207MB/s]\n"
          ]
        }
      ],
      "source": [
        "!gdown 1TqAMxBVYVmyuX78-OhCJy8L1epZjicUF"
      ]
    },
    {
      "cell_type": "code",
      "source": [
        "!pip install -q ta swifter"
      ],
      "metadata": {
        "id": "QR_TGaS8D0SO"
      },
      "execution_count": null,
      "outputs": []
    },
    {
      "cell_type": "code",
      "source": [
        "import sqlite3\n",
        "import swifter\n",
        "import datetime\n",
        "import numpy as np\n",
        "import pandas as pd\n",
        "import seaborn as sns\n",
        "import tensorflow as tf\n",
        "from tqdm import tqdm\n",
        "import matplotlib.pyplot as plt\n",
        "\n",
        "from ta import add_all_ta_features\n",
        "from ta.volatility import BollingerBands\n",
        "from ta.trend import EMAIndicator, MACD\n",
        "from ta.momentum import RSIIndicator\n",
        "pd.options.mode.chained_assignment = None"
      ],
      "metadata": {
        "id": "-v3Q8vzJDmA6"
      },
      "execution_count": null,
      "outputs": []
    },
    {
      "cell_type": "code",
      "source": [
        "connection = sqlite3.connect(\"itrade.db\", check_same_thread=False)"
      ],
      "metadata": {
        "id": "xX9xcwysD2NY"
      },
      "execution_count": null,
      "outputs": []
    },
    {
      "cell_type": "code",
      "source": [
        "df = pd.read_sql(\"SELECT * FROM intraday_table\", con=connection)"
      ],
      "metadata": {
        "id": "kTKuFsQJEzNO"
      },
      "execution_count": null,
      "outputs": []
    },
    {
      "cell_type": "code",
      "source": [
        "df"
      ],
      "metadata": {
        "id": "sYh3CHlEEzd5",
        "colab": {
          "base_uri": "https://localhost:8080/",
          "height": 424
        },
        "outputId": "395c55ee-54ae-4c30-a30d-aecf74830ec0"
      },
      "execution_count": null,
      "outputs": [
        {
          "output_type": "execute_result",
          "data": {
            "text/plain": [
              "             id     ticker                 date             time      open  \\\n",
              "0             0  BANKNIFTY  2012-12-03 00:00:00  09:16:00.000000  12125.70   \n",
              "1             1  BANKNIFTY  2012-12-03 00:00:00  09:17:00.000000  12161.75   \n",
              "2             2  BANKNIFTY  2012-12-03 00:00:00  09:18:00.000000  12126.85   \n",
              "3             3  BANKNIFTY  2012-12-03 00:00:00  09:19:00.000000  12157.25   \n",
              "4             4  BANKNIFTY  2012-12-03 00:00:00  09:20:00.000000  12162.80   \n",
              "...         ...        ...                  ...              ...       ...   \n",
              "2418647  345504      NIFTY  2011-12-30 00:00:00  15:26:00.000000   4619.35   \n",
              "2418648  345505      NIFTY  2011-12-30 00:00:00  15:27:00.000000   4620.60   \n",
              "2418649  345506      NIFTY  2011-12-30 00:00:00  15:28:00.000000   4620.60   \n",
              "2418650  345507      NIFTY  2011-12-30 00:00:00  15:29:00.000000   4619.30   \n",
              "2418651  345508      NIFTY  2011-12-30 00:00:00  15:30:00.000000   4617.25   \n",
              "\n",
              "             high       low     close   day  month    year  hour  minute  \n",
              "0        12161.70  12125.70  12160.95   3.0   12.0  2012.0   9.0    16.0  \n",
              "1        12164.80  12130.40  12130.40   3.0   12.0  2012.0   9.0    17.0  \n",
              "2        12156.10  12126.85  12156.10   3.0   12.0  2012.0   9.0    18.0  \n",
              "3        12164.75  12151.60  12164.20   3.0   12.0  2012.0   9.0    19.0  \n",
              "4        12162.80  12148.20  12151.15   3.0   12.0  2012.0   9.0    20.0  \n",
              "...           ...       ...       ...   ...    ...     ...   ...     ...  \n",
              "2418647   4620.75   4619.25   4620.40  30.0   12.0  2011.0  15.0    26.0  \n",
              "2418648   4621.55   4620.20   4620.80  30.0   12.0  2011.0  15.0    27.0  \n",
              "2418649   4621.15   4619.70   4619.95  30.0   12.0  2011.0  15.0    28.0  \n",
              "2418650   4619.70   4617.05   4617.35  30.0   12.0  2011.0  15.0    29.0  \n",
              "2418651   4618.35   4614.80   4617.20  30.0   12.0  2011.0  15.0    30.0  \n",
              "\n",
              "[2418652 rows x 13 columns]"
            ],
            "text/html": [
              "\n",
              "  <div id=\"df-d39c9be6-1f25-4a42-a0ae-c1f0952ca782\">\n",
              "    <div class=\"colab-df-container\">\n",
              "      <div>\n",
              "<style scoped>\n",
              "    .dataframe tbody tr th:only-of-type {\n",
              "        vertical-align: middle;\n",
              "    }\n",
              "\n",
              "    .dataframe tbody tr th {\n",
              "        vertical-align: top;\n",
              "    }\n",
              "\n",
              "    .dataframe thead th {\n",
              "        text-align: right;\n",
              "    }\n",
              "</style>\n",
              "<table border=\"1\" class=\"dataframe\">\n",
              "  <thead>\n",
              "    <tr style=\"text-align: right;\">\n",
              "      <th></th>\n",
              "      <th>id</th>\n",
              "      <th>ticker</th>\n",
              "      <th>date</th>\n",
              "      <th>time</th>\n",
              "      <th>open</th>\n",
              "      <th>high</th>\n",
              "      <th>low</th>\n",
              "      <th>close</th>\n",
              "      <th>day</th>\n",
              "      <th>month</th>\n",
              "      <th>year</th>\n",
              "      <th>hour</th>\n",
              "      <th>minute</th>\n",
              "    </tr>\n",
              "  </thead>\n",
              "  <tbody>\n",
              "    <tr>\n",
              "      <th>0</th>\n",
              "      <td>0</td>\n",
              "      <td>BANKNIFTY</td>\n",
              "      <td>2012-12-03 00:00:00</td>\n",
              "      <td>09:16:00.000000</td>\n",
              "      <td>12125.70</td>\n",
              "      <td>12161.70</td>\n",
              "      <td>12125.70</td>\n",
              "      <td>12160.95</td>\n",
              "      <td>3.0</td>\n",
              "      <td>12.0</td>\n",
              "      <td>2012.0</td>\n",
              "      <td>9.0</td>\n",
              "      <td>16.0</td>\n",
              "    </tr>\n",
              "    <tr>\n",
              "      <th>1</th>\n",
              "      <td>1</td>\n",
              "      <td>BANKNIFTY</td>\n",
              "      <td>2012-12-03 00:00:00</td>\n",
              "      <td>09:17:00.000000</td>\n",
              "      <td>12161.75</td>\n",
              "      <td>12164.80</td>\n",
              "      <td>12130.40</td>\n",
              "      <td>12130.40</td>\n",
              "      <td>3.0</td>\n",
              "      <td>12.0</td>\n",
              "      <td>2012.0</td>\n",
              "      <td>9.0</td>\n",
              "      <td>17.0</td>\n",
              "    </tr>\n",
              "    <tr>\n",
              "      <th>2</th>\n",
              "      <td>2</td>\n",
              "      <td>BANKNIFTY</td>\n",
              "      <td>2012-12-03 00:00:00</td>\n",
              "      <td>09:18:00.000000</td>\n",
              "      <td>12126.85</td>\n",
              "      <td>12156.10</td>\n",
              "      <td>12126.85</td>\n",
              "      <td>12156.10</td>\n",
              "      <td>3.0</td>\n",
              "      <td>12.0</td>\n",
              "      <td>2012.0</td>\n",
              "      <td>9.0</td>\n",
              "      <td>18.0</td>\n",
              "    </tr>\n",
              "    <tr>\n",
              "      <th>3</th>\n",
              "      <td>3</td>\n",
              "      <td>BANKNIFTY</td>\n",
              "      <td>2012-12-03 00:00:00</td>\n",
              "      <td>09:19:00.000000</td>\n",
              "      <td>12157.25</td>\n",
              "      <td>12164.75</td>\n",
              "      <td>12151.60</td>\n",
              "      <td>12164.20</td>\n",
              "      <td>3.0</td>\n",
              "      <td>12.0</td>\n",
              "      <td>2012.0</td>\n",
              "      <td>9.0</td>\n",
              "      <td>19.0</td>\n",
              "    </tr>\n",
              "    <tr>\n",
              "      <th>4</th>\n",
              "      <td>4</td>\n",
              "      <td>BANKNIFTY</td>\n",
              "      <td>2012-12-03 00:00:00</td>\n",
              "      <td>09:20:00.000000</td>\n",
              "      <td>12162.80</td>\n",
              "      <td>12162.80</td>\n",
              "      <td>12148.20</td>\n",
              "      <td>12151.15</td>\n",
              "      <td>3.0</td>\n",
              "      <td>12.0</td>\n",
              "      <td>2012.0</td>\n",
              "      <td>9.0</td>\n",
              "      <td>20.0</td>\n",
              "    </tr>\n",
              "    <tr>\n",
              "      <th>...</th>\n",
              "      <td>...</td>\n",
              "      <td>...</td>\n",
              "      <td>...</td>\n",
              "      <td>...</td>\n",
              "      <td>...</td>\n",
              "      <td>...</td>\n",
              "      <td>...</td>\n",
              "      <td>...</td>\n",
              "      <td>...</td>\n",
              "      <td>...</td>\n",
              "      <td>...</td>\n",
              "      <td>...</td>\n",
              "      <td>...</td>\n",
              "    </tr>\n",
              "    <tr>\n",
              "      <th>2418647</th>\n",
              "      <td>345504</td>\n",
              "      <td>NIFTY</td>\n",
              "      <td>2011-12-30 00:00:00</td>\n",
              "      <td>15:26:00.000000</td>\n",
              "      <td>4619.35</td>\n",
              "      <td>4620.75</td>\n",
              "      <td>4619.25</td>\n",
              "      <td>4620.40</td>\n",
              "      <td>30.0</td>\n",
              "      <td>12.0</td>\n",
              "      <td>2011.0</td>\n",
              "      <td>15.0</td>\n",
              "      <td>26.0</td>\n",
              "    </tr>\n",
              "    <tr>\n",
              "      <th>2418648</th>\n",
              "      <td>345505</td>\n",
              "      <td>NIFTY</td>\n",
              "      <td>2011-12-30 00:00:00</td>\n",
              "      <td>15:27:00.000000</td>\n",
              "      <td>4620.60</td>\n",
              "      <td>4621.55</td>\n",
              "      <td>4620.20</td>\n",
              "      <td>4620.80</td>\n",
              "      <td>30.0</td>\n",
              "      <td>12.0</td>\n",
              "      <td>2011.0</td>\n",
              "      <td>15.0</td>\n",
              "      <td>27.0</td>\n",
              "    </tr>\n",
              "    <tr>\n",
              "      <th>2418649</th>\n",
              "      <td>345506</td>\n",
              "      <td>NIFTY</td>\n",
              "      <td>2011-12-30 00:00:00</td>\n",
              "      <td>15:28:00.000000</td>\n",
              "      <td>4620.60</td>\n",
              "      <td>4621.15</td>\n",
              "      <td>4619.70</td>\n",
              "      <td>4619.95</td>\n",
              "      <td>30.0</td>\n",
              "      <td>12.0</td>\n",
              "      <td>2011.0</td>\n",
              "      <td>15.0</td>\n",
              "      <td>28.0</td>\n",
              "    </tr>\n",
              "    <tr>\n",
              "      <th>2418650</th>\n",
              "      <td>345507</td>\n",
              "      <td>NIFTY</td>\n",
              "      <td>2011-12-30 00:00:00</td>\n",
              "      <td>15:29:00.000000</td>\n",
              "      <td>4619.30</td>\n",
              "      <td>4619.70</td>\n",
              "      <td>4617.05</td>\n",
              "      <td>4617.35</td>\n",
              "      <td>30.0</td>\n",
              "      <td>12.0</td>\n",
              "      <td>2011.0</td>\n",
              "      <td>15.0</td>\n",
              "      <td>29.0</td>\n",
              "    </tr>\n",
              "    <tr>\n",
              "      <th>2418651</th>\n",
              "      <td>345508</td>\n",
              "      <td>NIFTY</td>\n",
              "      <td>2011-12-30 00:00:00</td>\n",
              "      <td>15:30:00.000000</td>\n",
              "      <td>4617.25</td>\n",
              "      <td>4618.35</td>\n",
              "      <td>4614.80</td>\n",
              "      <td>4617.20</td>\n",
              "      <td>30.0</td>\n",
              "      <td>12.0</td>\n",
              "      <td>2011.0</td>\n",
              "      <td>15.0</td>\n",
              "      <td>30.0</td>\n",
              "    </tr>\n",
              "  </tbody>\n",
              "</table>\n",
              "<p>2418652 rows × 13 columns</p>\n",
              "</div>\n",
              "      <button class=\"colab-df-convert\" onclick=\"convertToInteractive('df-d39c9be6-1f25-4a42-a0ae-c1f0952ca782')\"\n",
              "              title=\"Convert this dataframe to an interactive table.\"\n",
              "              style=\"display:none;\">\n",
              "        \n",
              "  <svg xmlns=\"http://www.w3.org/2000/svg\" height=\"24px\"viewBox=\"0 0 24 24\"\n",
              "       width=\"24px\">\n",
              "    <path d=\"M0 0h24v24H0V0z\" fill=\"none\"/>\n",
              "    <path d=\"M18.56 5.44l.94 2.06.94-2.06 2.06-.94-2.06-.94-.94-2.06-.94 2.06-2.06.94zm-11 1L8.5 8.5l.94-2.06 2.06-.94-2.06-.94L8.5 2.5l-.94 2.06-2.06.94zm10 10l.94 2.06.94-2.06 2.06-.94-2.06-.94-.94-2.06-.94 2.06-2.06.94z\"/><path d=\"M17.41 7.96l-1.37-1.37c-.4-.4-.92-.59-1.43-.59-.52 0-1.04.2-1.43.59L10.3 9.45l-7.72 7.72c-.78.78-.78 2.05 0 2.83L4 21.41c.39.39.9.59 1.41.59.51 0 1.02-.2 1.41-.59l7.78-7.78 2.81-2.81c.8-.78.8-2.07 0-2.86zM5.41 20L4 18.59l7.72-7.72 1.47 1.35L5.41 20z\"/>\n",
              "  </svg>\n",
              "      </button>\n",
              "      \n",
              "  <style>\n",
              "    .colab-df-container {\n",
              "      display:flex;\n",
              "      flex-wrap:wrap;\n",
              "      gap: 12px;\n",
              "    }\n",
              "\n",
              "    .colab-df-convert {\n",
              "      background-color: #E8F0FE;\n",
              "      border: none;\n",
              "      border-radius: 50%;\n",
              "      cursor: pointer;\n",
              "      display: none;\n",
              "      fill: #1967D2;\n",
              "      height: 32px;\n",
              "      padding: 0 0 0 0;\n",
              "      width: 32px;\n",
              "    }\n",
              "\n",
              "    .colab-df-convert:hover {\n",
              "      background-color: #E2EBFA;\n",
              "      box-shadow: 0px 1px 2px rgba(60, 64, 67, 0.3), 0px 1px 3px 1px rgba(60, 64, 67, 0.15);\n",
              "      fill: #174EA6;\n",
              "    }\n",
              "\n",
              "    [theme=dark] .colab-df-convert {\n",
              "      background-color: #3B4455;\n",
              "      fill: #D2E3FC;\n",
              "    }\n",
              "\n",
              "    [theme=dark] .colab-df-convert:hover {\n",
              "      background-color: #434B5C;\n",
              "      box-shadow: 0px 1px 3px 1px rgba(0, 0, 0, 0.15);\n",
              "      filter: drop-shadow(0px 1px 2px rgba(0, 0, 0, 0.3));\n",
              "      fill: #FFFFFF;\n",
              "    }\n",
              "  </style>\n",
              "\n",
              "      <script>\n",
              "        const buttonEl =\n",
              "          document.querySelector('#df-d39c9be6-1f25-4a42-a0ae-c1f0952ca782 button.colab-df-convert');\n",
              "        buttonEl.style.display =\n",
              "          google.colab.kernel.accessAllowed ? 'block' : 'none';\n",
              "\n",
              "        async function convertToInteractive(key) {\n",
              "          const element = document.querySelector('#df-d39c9be6-1f25-4a42-a0ae-c1f0952ca782');\n",
              "          const dataTable =\n",
              "            await google.colab.kernel.invokeFunction('convertToInteractive',\n",
              "                                                     [key], {});\n",
              "          if (!dataTable) return;\n",
              "\n",
              "          const docLinkHtml = 'Like what you see? Visit the ' +\n",
              "            '<a target=\"_blank\" href=https://colab.research.google.com/notebooks/data_table.ipynb>data table notebook</a>'\n",
              "            + ' to learn more about interactive tables.';\n",
              "          element.innerHTML = '';\n",
              "          dataTable['output_type'] = 'display_data';\n",
              "          await google.colab.output.renderOutput(dataTable, element);\n",
              "          const docLink = document.createElement('div');\n",
              "          docLink.innerHTML = docLinkHtml;\n",
              "          element.appendChild(docLink);\n",
              "        }\n",
              "      </script>\n",
              "    </div>\n",
              "  </div>\n",
              "  "
            ]
          },
          "metadata": {},
          "execution_count": 6
        }
      ]
    },
    {
      "cell_type": "code",
      "source": [
        "df[\"ticker\"].value_counts()"
      ],
      "metadata": {
        "id": "4mhInhNFE5tG",
        "colab": {
          "base_uri": "https://localhost:8080/"
        },
        "outputId": "ecd15f01-5e52-404f-9f70-2b4ef93e349a"
      },
      "execution_count": null,
      "outputs": [
        {
          "output_type": "execute_result",
          "data": {
            "text/plain": [
              "NIFTY        1295165\n",
              "BANKNIFTY    1123487\n",
              "Name: ticker, dtype: int64"
            ]
          },
          "metadata": {},
          "execution_count": 7
        }
      ]
    },
    {
      "cell_type": "code",
      "source": [
        "#df[\"volume\"] = 0.0"
      ],
      "metadata": {
        "id": "46b71uo2GInu"
      },
      "execution_count": null,
      "outputs": []
    },
    {
      "cell_type": "code",
      "source": [
        "df = df[df[\"ticker\"] == \"BANKNIFTY\"].reset_index(drop=True)"
      ],
      "metadata": {
        "id": "nvCQkvUWW5uA"
      },
      "execution_count": null,
      "outputs": []
    },
    {
      "cell_type": "code",
      "source": [
        "#df = add_all_ta_features(df, open=\"open\", high=\"high\", low=\"low\", close=\"close\", volume=\"volume\", fillna=True)"
      ],
      "metadata": {
        "id": "dNjXNjuOGPr4"
      },
      "execution_count": null,
      "outputs": []
    },
    {
      "cell_type": "code",
      "source": [
        "df"
      ],
      "metadata": {
        "id": "5s3A_ScbGq_h",
        "colab": {
          "base_uri": "https://localhost:8080/",
          "height": 424
        },
        "outputId": "14d69c53-0845-4843-e8b4-c6719a6f1930"
      },
      "execution_count": null,
      "outputs": [
        {
          "output_type": "execute_result",
          "data": {
            "text/plain": [
              "             id     ticker                 date             time      open  \\\n",
              "0             0  BANKNIFTY  2012-12-03 00:00:00  09:16:00.000000  12125.70   \n",
              "1             1  BANKNIFTY  2012-12-03 00:00:00  09:17:00.000000  12161.75   \n",
              "2             2  BANKNIFTY  2012-12-03 00:00:00  09:18:00.000000  12126.85   \n",
              "3             3  BANKNIFTY  2012-12-03 00:00:00  09:19:00.000000  12157.25   \n",
              "4             4  BANKNIFTY  2012-12-03 00:00:00  09:20:00.000000  12162.80   \n",
              "...         ...        ...                  ...              ...       ...   \n",
              "1123482  174161  BANKNIFTY  2011-12-30 00:00:00  15:26:00.000000   7955.80   \n",
              "1123483  174162  BANKNIFTY  2011-12-30 00:00:00  15:27:00.000000   7955.80   \n",
              "1123484  174163  BANKNIFTY  2011-12-30 00:00:00  15:28:00.000000   7960.90   \n",
              "1123485  174164  BANKNIFTY  2011-12-30 00:00:00  15:29:00.000000   7959.45   \n",
              "1123486  174165  BANKNIFTY  2011-12-30 00:00:00  15:30:00.000000   7955.30   \n",
              "\n",
              "             high       low     close   day  month    year  hour  minute  \n",
              "0        12161.70  12125.70  12160.95   3.0   12.0  2012.0   9.0    16.0  \n",
              "1        12164.80  12130.40  12130.40   3.0   12.0  2012.0   9.0    17.0  \n",
              "2        12156.10  12126.85  12156.10   3.0   12.0  2012.0   9.0    18.0  \n",
              "3        12164.75  12151.60  12164.20   3.0   12.0  2012.0   9.0    19.0  \n",
              "4        12162.80  12148.20  12151.15   3.0   12.0  2012.0   9.0    20.0  \n",
              "...           ...       ...       ...   ...    ...     ...   ...     ...  \n",
              "1123482   7956.25   7954.30   7956.25  30.0   12.0  2011.0  15.0    26.0  \n",
              "1123483   7959.90   7955.80   7959.80  30.0   12.0  2011.0  15.0    27.0  \n",
              "1123484   7963.45   7960.90   7961.40  30.0   12.0  2011.0  15.0    28.0  \n",
              "1123485   7959.45   7953.30   7954.70  30.0   12.0  2011.0  15.0    29.0  \n",
              "1123486   7956.90   7952.55   7954.75  30.0   12.0  2011.0  15.0    30.0  \n",
              "\n",
              "[1123487 rows x 13 columns]"
            ],
            "text/html": [
              "\n",
              "  <div id=\"df-49b47aac-8352-43ed-ba4a-82a2b5037435\">\n",
              "    <div class=\"colab-df-container\">\n",
              "      <div>\n",
              "<style scoped>\n",
              "    .dataframe tbody tr th:only-of-type {\n",
              "        vertical-align: middle;\n",
              "    }\n",
              "\n",
              "    .dataframe tbody tr th {\n",
              "        vertical-align: top;\n",
              "    }\n",
              "\n",
              "    .dataframe thead th {\n",
              "        text-align: right;\n",
              "    }\n",
              "</style>\n",
              "<table border=\"1\" class=\"dataframe\">\n",
              "  <thead>\n",
              "    <tr style=\"text-align: right;\">\n",
              "      <th></th>\n",
              "      <th>id</th>\n",
              "      <th>ticker</th>\n",
              "      <th>date</th>\n",
              "      <th>time</th>\n",
              "      <th>open</th>\n",
              "      <th>high</th>\n",
              "      <th>low</th>\n",
              "      <th>close</th>\n",
              "      <th>day</th>\n",
              "      <th>month</th>\n",
              "      <th>year</th>\n",
              "      <th>hour</th>\n",
              "      <th>minute</th>\n",
              "    </tr>\n",
              "  </thead>\n",
              "  <tbody>\n",
              "    <tr>\n",
              "      <th>0</th>\n",
              "      <td>0</td>\n",
              "      <td>BANKNIFTY</td>\n",
              "      <td>2012-12-03 00:00:00</td>\n",
              "      <td>09:16:00.000000</td>\n",
              "      <td>12125.70</td>\n",
              "      <td>12161.70</td>\n",
              "      <td>12125.70</td>\n",
              "      <td>12160.95</td>\n",
              "      <td>3.0</td>\n",
              "      <td>12.0</td>\n",
              "      <td>2012.0</td>\n",
              "      <td>9.0</td>\n",
              "      <td>16.0</td>\n",
              "    </tr>\n",
              "    <tr>\n",
              "      <th>1</th>\n",
              "      <td>1</td>\n",
              "      <td>BANKNIFTY</td>\n",
              "      <td>2012-12-03 00:00:00</td>\n",
              "      <td>09:17:00.000000</td>\n",
              "      <td>12161.75</td>\n",
              "      <td>12164.80</td>\n",
              "      <td>12130.40</td>\n",
              "      <td>12130.40</td>\n",
              "      <td>3.0</td>\n",
              "      <td>12.0</td>\n",
              "      <td>2012.0</td>\n",
              "      <td>9.0</td>\n",
              "      <td>17.0</td>\n",
              "    </tr>\n",
              "    <tr>\n",
              "      <th>2</th>\n",
              "      <td>2</td>\n",
              "      <td>BANKNIFTY</td>\n",
              "      <td>2012-12-03 00:00:00</td>\n",
              "      <td>09:18:00.000000</td>\n",
              "      <td>12126.85</td>\n",
              "      <td>12156.10</td>\n",
              "      <td>12126.85</td>\n",
              "      <td>12156.10</td>\n",
              "      <td>3.0</td>\n",
              "      <td>12.0</td>\n",
              "      <td>2012.0</td>\n",
              "      <td>9.0</td>\n",
              "      <td>18.0</td>\n",
              "    </tr>\n",
              "    <tr>\n",
              "      <th>3</th>\n",
              "      <td>3</td>\n",
              "      <td>BANKNIFTY</td>\n",
              "      <td>2012-12-03 00:00:00</td>\n",
              "      <td>09:19:00.000000</td>\n",
              "      <td>12157.25</td>\n",
              "      <td>12164.75</td>\n",
              "      <td>12151.60</td>\n",
              "      <td>12164.20</td>\n",
              "      <td>3.0</td>\n",
              "      <td>12.0</td>\n",
              "      <td>2012.0</td>\n",
              "      <td>9.0</td>\n",
              "      <td>19.0</td>\n",
              "    </tr>\n",
              "    <tr>\n",
              "      <th>4</th>\n",
              "      <td>4</td>\n",
              "      <td>BANKNIFTY</td>\n",
              "      <td>2012-12-03 00:00:00</td>\n",
              "      <td>09:20:00.000000</td>\n",
              "      <td>12162.80</td>\n",
              "      <td>12162.80</td>\n",
              "      <td>12148.20</td>\n",
              "      <td>12151.15</td>\n",
              "      <td>3.0</td>\n",
              "      <td>12.0</td>\n",
              "      <td>2012.0</td>\n",
              "      <td>9.0</td>\n",
              "      <td>20.0</td>\n",
              "    </tr>\n",
              "    <tr>\n",
              "      <th>...</th>\n",
              "      <td>...</td>\n",
              "      <td>...</td>\n",
              "      <td>...</td>\n",
              "      <td>...</td>\n",
              "      <td>...</td>\n",
              "      <td>...</td>\n",
              "      <td>...</td>\n",
              "      <td>...</td>\n",
              "      <td>...</td>\n",
              "      <td>...</td>\n",
              "      <td>...</td>\n",
              "      <td>...</td>\n",
              "      <td>...</td>\n",
              "    </tr>\n",
              "    <tr>\n",
              "      <th>1123482</th>\n",
              "      <td>174161</td>\n",
              "      <td>BANKNIFTY</td>\n",
              "      <td>2011-12-30 00:00:00</td>\n",
              "      <td>15:26:00.000000</td>\n",
              "      <td>7955.80</td>\n",
              "      <td>7956.25</td>\n",
              "      <td>7954.30</td>\n",
              "      <td>7956.25</td>\n",
              "      <td>30.0</td>\n",
              "      <td>12.0</td>\n",
              "      <td>2011.0</td>\n",
              "      <td>15.0</td>\n",
              "      <td>26.0</td>\n",
              "    </tr>\n",
              "    <tr>\n",
              "      <th>1123483</th>\n",
              "      <td>174162</td>\n",
              "      <td>BANKNIFTY</td>\n",
              "      <td>2011-12-30 00:00:00</td>\n",
              "      <td>15:27:00.000000</td>\n",
              "      <td>7955.80</td>\n",
              "      <td>7959.90</td>\n",
              "      <td>7955.80</td>\n",
              "      <td>7959.80</td>\n",
              "      <td>30.0</td>\n",
              "      <td>12.0</td>\n",
              "      <td>2011.0</td>\n",
              "      <td>15.0</td>\n",
              "      <td>27.0</td>\n",
              "    </tr>\n",
              "    <tr>\n",
              "      <th>1123484</th>\n",
              "      <td>174163</td>\n",
              "      <td>BANKNIFTY</td>\n",
              "      <td>2011-12-30 00:00:00</td>\n",
              "      <td>15:28:00.000000</td>\n",
              "      <td>7960.90</td>\n",
              "      <td>7963.45</td>\n",
              "      <td>7960.90</td>\n",
              "      <td>7961.40</td>\n",
              "      <td>30.0</td>\n",
              "      <td>12.0</td>\n",
              "      <td>2011.0</td>\n",
              "      <td>15.0</td>\n",
              "      <td>28.0</td>\n",
              "    </tr>\n",
              "    <tr>\n",
              "      <th>1123485</th>\n",
              "      <td>174164</td>\n",
              "      <td>BANKNIFTY</td>\n",
              "      <td>2011-12-30 00:00:00</td>\n",
              "      <td>15:29:00.000000</td>\n",
              "      <td>7959.45</td>\n",
              "      <td>7959.45</td>\n",
              "      <td>7953.30</td>\n",
              "      <td>7954.70</td>\n",
              "      <td>30.0</td>\n",
              "      <td>12.0</td>\n",
              "      <td>2011.0</td>\n",
              "      <td>15.0</td>\n",
              "      <td>29.0</td>\n",
              "    </tr>\n",
              "    <tr>\n",
              "      <th>1123486</th>\n",
              "      <td>174165</td>\n",
              "      <td>BANKNIFTY</td>\n",
              "      <td>2011-12-30 00:00:00</td>\n",
              "      <td>15:30:00.000000</td>\n",
              "      <td>7955.30</td>\n",
              "      <td>7956.90</td>\n",
              "      <td>7952.55</td>\n",
              "      <td>7954.75</td>\n",
              "      <td>30.0</td>\n",
              "      <td>12.0</td>\n",
              "      <td>2011.0</td>\n",
              "      <td>15.0</td>\n",
              "      <td>30.0</td>\n",
              "    </tr>\n",
              "  </tbody>\n",
              "</table>\n",
              "<p>1123487 rows × 13 columns</p>\n",
              "</div>\n",
              "      <button class=\"colab-df-convert\" onclick=\"convertToInteractive('df-49b47aac-8352-43ed-ba4a-82a2b5037435')\"\n",
              "              title=\"Convert this dataframe to an interactive table.\"\n",
              "              style=\"display:none;\">\n",
              "        \n",
              "  <svg xmlns=\"http://www.w3.org/2000/svg\" height=\"24px\"viewBox=\"0 0 24 24\"\n",
              "       width=\"24px\">\n",
              "    <path d=\"M0 0h24v24H0V0z\" fill=\"none\"/>\n",
              "    <path d=\"M18.56 5.44l.94 2.06.94-2.06 2.06-.94-2.06-.94-.94-2.06-.94 2.06-2.06.94zm-11 1L8.5 8.5l.94-2.06 2.06-.94-2.06-.94L8.5 2.5l-.94 2.06-2.06.94zm10 10l.94 2.06.94-2.06 2.06-.94-2.06-.94-.94-2.06-.94 2.06-2.06.94z\"/><path d=\"M17.41 7.96l-1.37-1.37c-.4-.4-.92-.59-1.43-.59-.52 0-1.04.2-1.43.59L10.3 9.45l-7.72 7.72c-.78.78-.78 2.05 0 2.83L4 21.41c.39.39.9.59 1.41.59.51 0 1.02-.2 1.41-.59l7.78-7.78 2.81-2.81c.8-.78.8-2.07 0-2.86zM5.41 20L4 18.59l7.72-7.72 1.47 1.35L5.41 20z\"/>\n",
              "  </svg>\n",
              "      </button>\n",
              "      \n",
              "  <style>\n",
              "    .colab-df-container {\n",
              "      display:flex;\n",
              "      flex-wrap:wrap;\n",
              "      gap: 12px;\n",
              "    }\n",
              "\n",
              "    .colab-df-convert {\n",
              "      background-color: #E8F0FE;\n",
              "      border: none;\n",
              "      border-radius: 50%;\n",
              "      cursor: pointer;\n",
              "      display: none;\n",
              "      fill: #1967D2;\n",
              "      height: 32px;\n",
              "      padding: 0 0 0 0;\n",
              "      width: 32px;\n",
              "    }\n",
              "\n",
              "    .colab-df-convert:hover {\n",
              "      background-color: #E2EBFA;\n",
              "      box-shadow: 0px 1px 2px rgba(60, 64, 67, 0.3), 0px 1px 3px 1px rgba(60, 64, 67, 0.15);\n",
              "      fill: #174EA6;\n",
              "    }\n",
              "\n",
              "    [theme=dark] .colab-df-convert {\n",
              "      background-color: #3B4455;\n",
              "      fill: #D2E3FC;\n",
              "    }\n",
              "\n",
              "    [theme=dark] .colab-df-convert:hover {\n",
              "      background-color: #434B5C;\n",
              "      box-shadow: 0px 1px 3px 1px rgba(0, 0, 0, 0.15);\n",
              "      filter: drop-shadow(0px 1px 2px rgba(0, 0, 0, 0.3));\n",
              "      fill: #FFFFFF;\n",
              "    }\n",
              "  </style>\n",
              "\n",
              "      <script>\n",
              "        const buttonEl =\n",
              "          document.querySelector('#df-49b47aac-8352-43ed-ba4a-82a2b5037435 button.colab-df-convert');\n",
              "        buttonEl.style.display =\n",
              "          google.colab.kernel.accessAllowed ? 'block' : 'none';\n",
              "\n",
              "        async function convertToInteractive(key) {\n",
              "          const element = document.querySelector('#df-49b47aac-8352-43ed-ba4a-82a2b5037435');\n",
              "          const dataTable =\n",
              "            await google.colab.kernel.invokeFunction('convertToInteractive',\n",
              "                                                     [key], {});\n",
              "          if (!dataTable) return;\n",
              "\n",
              "          const docLinkHtml = 'Like what you see? Visit the ' +\n",
              "            '<a target=\"_blank\" href=https://colab.research.google.com/notebooks/data_table.ipynb>data table notebook</a>'\n",
              "            + ' to learn more about interactive tables.';\n",
              "          element.innerHTML = '';\n",
              "          dataTable['output_type'] = 'display_data';\n",
              "          await google.colab.output.renderOutput(dataTable, element);\n",
              "          const docLink = document.createElement('div');\n",
              "          docLink.innerHTML = docLinkHtml;\n",
              "          element.appendChild(docLink);\n",
              "        }\n",
              "      </script>\n",
              "    </div>\n",
              "  </div>\n",
              "  "
            ]
          },
          "metadata": {},
          "execution_count": 11
        }
      ]
    },
    {
      "cell_type": "code",
      "source": [
        "df.to_csv(\"BANKNIFTY_indicators_intraday.csv\")"
      ],
      "metadata": {
        "id": "Ez1Pqt6GG62U"
      },
      "execution_count": null,
      "outputs": []
    },
    {
      "cell_type": "code",
      "source": [
        "df[\"date\"] = pd.to_datetime(df[\"date\"] + ' ' + df[\"time\"])"
      ],
      "metadata": {
        "id": "RYAmQaMTGsjb"
      },
      "execution_count": null,
      "outputs": []
    },
    {
      "cell_type": "code",
      "source": [
        "df = df.drop(columns=[\"day\", \"month\", \"year\", \"hour\", \"minute\", \"time\", \"id\"])"
      ],
      "metadata": {
        "id": "DDsyyCtjLKhP"
      },
      "execution_count": null,
      "outputs": []
    },
    {
      "cell_type": "code",
      "source": [
        "indicator_columns = list(df.columns[7:-1])"
      ],
      "metadata": {
        "id": "CbLMggjPM3u-"
      },
      "execution_count": null,
      "outputs": []
    },
    {
      "cell_type": "code",
      "source": [
        "df = df[[\"date\", \"open\", \"high\", \"low\", \"close\", *indicator_columns]]"
      ],
      "metadata": {
        "id": "x-U5Tg_INnXD"
      },
      "execution_count": null,
      "outputs": []
    },
    {
      "cell_type": "code",
      "source": [
        "df = df.sort_values(by=\"date\")"
      ],
      "metadata": {
        "id": "fiZpYkefLQDp"
      },
      "execution_count": null,
      "outputs": []
    },
    {
      "cell_type": "code",
      "source": [
        "df"
      ],
      "metadata": {
        "colab": {
          "base_uri": "https://localhost:8080/",
          "height": 424
        },
        "id": "_1rQZpZQOTyb",
        "outputId": "362415df-0fad-4177-9a1b-0b193ef54be2"
      },
      "execution_count": null,
      "outputs": [
        {
          "output_type": "execute_result",
          "data": {
            "text/plain": [
              "                      date      open      high       low     close\n",
              "949321 2010-03-02 09:01:00   8826.90   8856.95   8826.90   8839.80\n",
              "949322 2010-03-02 09:02:00   8840.75   8853.90   8832.80   8852.30\n",
              "949323 2010-03-02 09:03:00   8855.70   8855.70   8844.65   8846.65\n",
              "949324 2010-03-02 09:04:00   8843.85   8850.70   8843.75   8846.70\n",
              "949325 2010-03-02 09:05:00   8846.40   8846.40   8837.75   8841.60\n",
              "...                    ...       ...       ...       ...       ...\n",
              "949316 2022-03-31 15:27:00  36376.10  36379.25  36368.80  36371.55\n",
              "949317 2022-03-31 15:28:00  36372.35  36386.15  36368.60  36370.30\n",
              "949318 2022-03-31 15:29:00  36374.55  36374.55  36337.85  36355.50\n",
              "949319 2022-03-31 15:30:00  36352.60  36375.00  36343.90  36371.00\n",
              "949320 2022-03-31 15:31:00  36373.60  36373.60  36373.60  36373.60\n",
              "\n",
              "[1123487 rows x 5 columns]"
            ],
            "text/html": [
              "\n",
              "  <div id=\"df-6071462d-5e85-46fa-84b2-fd286e103fdb\">\n",
              "    <div class=\"colab-df-container\">\n",
              "      <div>\n",
              "<style scoped>\n",
              "    .dataframe tbody tr th:only-of-type {\n",
              "        vertical-align: middle;\n",
              "    }\n",
              "\n",
              "    .dataframe tbody tr th {\n",
              "        vertical-align: top;\n",
              "    }\n",
              "\n",
              "    .dataframe thead th {\n",
              "        text-align: right;\n",
              "    }\n",
              "</style>\n",
              "<table border=\"1\" class=\"dataframe\">\n",
              "  <thead>\n",
              "    <tr style=\"text-align: right;\">\n",
              "      <th></th>\n",
              "      <th>date</th>\n",
              "      <th>open</th>\n",
              "      <th>high</th>\n",
              "      <th>low</th>\n",
              "      <th>close</th>\n",
              "    </tr>\n",
              "  </thead>\n",
              "  <tbody>\n",
              "    <tr>\n",
              "      <th>949321</th>\n",
              "      <td>2010-03-02 09:01:00</td>\n",
              "      <td>8826.90</td>\n",
              "      <td>8856.95</td>\n",
              "      <td>8826.90</td>\n",
              "      <td>8839.80</td>\n",
              "    </tr>\n",
              "    <tr>\n",
              "      <th>949322</th>\n",
              "      <td>2010-03-02 09:02:00</td>\n",
              "      <td>8840.75</td>\n",
              "      <td>8853.90</td>\n",
              "      <td>8832.80</td>\n",
              "      <td>8852.30</td>\n",
              "    </tr>\n",
              "    <tr>\n",
              "      <th>949323</th>\n",
              "      <td>2010-03-02 09:03:00</td>\n",
              "      <td>8855.70</td>\n",
              "      <td>8855.70</td>\n",
              "      <td>8844.65</td>\n",
              "      <td>8846.65</td>\n",
              "    </tr>\n",
              "    <tr>\n",
              "      <th>949324</th>\n",
              "      <td>2010-03-02 09:04:00</td>\n",
              "      <td>8843.85</td>\n",
              "      <td>8850.70</td>\n",
              "      <td>8843.75</td>\n",
              "      <td>8846.70</td>\n",
              "    </tr>\n",
              "    <tr>\n",
              "      <th>949325</th>\n",
              "      <td>2010-03-02 09:05:00</td>\n",
              "      <td>8846.40</td>\n",
              "      <td>8846.40</td>\n",
              "      <td>8837.75</td>\n",
              "      <td>8841.60</td>\n",
              "    </tr>\n",
              "    <tr>\n",
              "      <th>...</th>\n",
              "      <td>...</td>\n",
              "      <td>...</td>\n",
              "      <td>...</td>\n",
              "      <td>...</td>\n",
              "      <td>...</td>\n",
              "    </tr>\n",
              "    <tr>\n",
              "      <th>949316</th>\n",
              "      <td>2022-03-31 15:27:00</td>\n",
              "      <td>36376.10</td>\n",
              "      <td>36379.25</td>\n",
              "      <td>36368.80</td>\n",
              "      <td>36371.55</td>\n",
              "    </tr>\n",
              "    <tr>\n",
              "      <th>949317</th>\n",
              "      <td>2022-03-31 15:28:00</td>\n",
              "      <td>36372.35</td>\n",
              "      <td>36386.15</td>\n",
              "      <td>36368.60</td>\n",
              "      <td>36370.30</td>\n",
              "    </tr>\n",
              "    <tr>\n",
              "      <th>949318</th>\n",
              "      <td>2022-03-31 15:29:00</td>\n",
              "      <td>36374.55</td>\n",
              "      <td>36374.55</td>\n",
              "      <td>36337.85</td>\n",
              "      <td>36355.50</td>\n",
              "    </tr>\n",
              "    <tr>\n",
              "      <th>949319</th>\n",
              "      <td>2022-03-31 15:30:00</td>\n",
              "      <td>36352.60</td>\n",
              "      <td>36375.00</td>\n",
              "      <td>36343.90</td>\n",
              "      <td>36371.00</td>\n",
              "    </tr>\n",
              "    <tr>\n",
              "      <th>949320</th>\n",
              "      <td>2022-03-31 15:31:00</td>\n",
              "      <td>36373.60</td>\n",
              "      <td>36373.60</td>\n",
              "      <td>36373.60</td>\n",
              "      <td>36373.60</td>\n",
              "    </tr>\n",
              "  </tbody>\n",
              "</table>\n",
              "<p>1123487 rows × 5 columns</p>\n",
              "</div>\n",
              "      <button class=\"colab-df-convert\" onclick=\"convertToInteractive('df-6071462d-5e85-46fa-84b2-fd286e103fdb')\"\n",
              "              title=\"Convert this dataframe to an interactive table.\"\n",
              "              style=\"display:none;\">\n",
              "        \n",
              "  <svg xmlns=\"http://www.w3.org/2000/svg\" height=\"24px\"viewBox=\"0 0 24 24\"\n",
              "       width=\"24px\">\n",
              "    <path d=\"M0 0h24v24H0V0z\" fill=\"none\"/>\n",
              "    <path d=\"M18.56 5.44l.94 2.06.94-2.06 2.06-.94-2.06-.94-.94-2.06-.94 2.06-2.06.94zm-11 1L8.5 8.5l.94-2.06 2.06-.94-2.06-.94L8.5 2.5l-.94 2.06-2.06.94zm10 10l.94 2.06.94-2.06 2.06-.94-2.06-.94-.94-2.06-.94 2.06-2.06.94z\"/><path d=\"M17.41 7.96l-1.37-1.37c-.4-.4-.92-.59-1.43-.59-.52 0-1.04.2-1.43.59L10.3 9.45l-7.72 7.72c-.78.78-.78 2.05 0 2.83L4 21.41c.39.39.9.59 1.41.59.51 0 1.02-.2 1.41-.59l7.78-7.78 2.81-2.81c.8-.78.8-2.07 0-2.86zM5.41 20L4 18.59l7.72-7.72 1.47 1.35L5.41 20z\"/>\n",
              "  </svg>\n",
              "      </button>\n",
              "      \n",
              "  <style>\n",
              "    .colab-df-container {\n",
              "      display:flex;\n",
              "      flex-wrap:wrap;\n",
              "      gap: 12px;\n",
              "    }\n",
              "\n",
              "    .colab-df-convert {\n",
              "      background-color: #E8F0FE;\n",
              "      border: none;\n",
              "      border-radius: 50%;\n",
              "      cursor: pointer;\n",
              "      display: none;\n",
              "      fill: #1967D2;\n",
              "      height: 32px;\n",
              "      padding: 0 0 0 0;\n",
              "      width: 32px;\n",
              "    }\n",
              "\n",
              "    .colab-df-convert:hover {\n",
              "      background-color: #E2EBFA;\n",
              "      box-shadow: 0px 1px 2px rgba(60, 64, 67, 0.3), 0px 1px 3px 1px rgba(60, 64, 67, 0.15);\n",
              "      fill: #174EA6;\n",
              "    }\n",
              "\n",
              "    [theme=dark] .colab-df-convert {\n",
              "      background-color: #3B4455;\n",
              "      fill: #D2E3FC;\n",
              "    }\n",
              "\n",
              "    [theme=dark] .colab-df-convert:hover {\n",
              "      background-color: #434B5C;\n",
              "      box-shadow: 0px 1px 3px 1px rgba(0, 0, 0, 0.15);\n",
              "      filter: drop-shadow(0px 1px 2px rgba(0, 0, 0, 0.3));\n",
              "      fill: #FFFFFF;\n",
              "    }\n",
              "  </style>\n",
              "\n",
              "      <script>\n",
              "        const buttonEl =\n",
              "          document.querySelector('#df-6071462d-5e85-46fa-84b2-fd286e103fdb button.colab-df-convert');\n",
              "        buttonEl.style.display =\n",
              "          google.colab.kernel.accessAllowed ? 'block' : 'none';\n",
              "\n",
              "        async function convertToInteractive(key) {\n",
              "          const element = document.querySelector('#df-6071462d-5e85-46fa-84b2-fd286e103fdb');\n",
              "          const dataTable =\n",
              "            await google.colab.kernel.invokeFunction('convertToInteractive',\n",
              "                                                     [key], {});\n",
              "          if (!dataTable) return;\n",
              "\n",
              "          const docLinkHtml = 'Like what you see? Visit the ' +\n",
              "            '<a target=\"_blank\" href=https://colab.research.google.com/notebooks/data_table.ipynb>data table notebook</a>'\n",
              "            + ' to learn more about interactive tables.';\n",
              "          element.innerHTML = '';\n",
              "          dataTable['output_type'] = 'display_data';\n",
              "          await google.colab.output.renderOutput(dataTable, element);\n",
              "          const docLink = document.createElement('div');\n",
              "          docLink.innerHTML = docLinkHtml;\n",
              "          element.appendChild(docLink);\n",
              "        }\n",
              "      </script>\n",
              "    </div>\n",
              "  </div>\n",
              "  "
            ]
          },
          "metadata": {},
          "execution_count": 18
        }
      ]
    },
    {
      "cell_type": "code",
      "source": [
        "titles = [\n",
        "    \"open\", \"high\", \"low\", \"close\", *indicator_columns\n",
        "]\n",
        "\n",
        "feature_keys = [\n",
        "    \"open\", \"high\", \"low\", \"close\", *indicator_columns\n",
        "]\n",
        "\n",
        "colors = [\n",
        "    \"blue\",\n",
        "    \"orange\",\n",
        "    \"green\",\n",
        "    \"red\",\n",
        "    \"purple\",\n",
        "]*19\n",
        "\n",
        "date_time_key = \"date\""
      ],
      "metadata": {
        "id": "1Jqarj_eOVOT"
      },
      "execution_count": null,
      "outputs": []
    },
    {
      "cell_type": "code",
      "source": [
        "def show_raw_visualization(data):\n",
        "    time_data = data[date_time_key]\n",
        "    fig, axes = plt.subplots(\n",
        "        nrows=5, ncols=2, figsize=(15, 20), dpi=80, facecolor=\"w\", edgecolor=\"k\"\n",
        "    )\n",
        "    for i in range(len(feature_keys[:10])):\n",
        "        key = feature_keys[i]\n",
        "        c = colors[i % (len(colors))]\n",
        "        t_data = data[key]\n",
        "        t_data.index = time_data\n",
        "        t_data.head()\n",
        "        ax = t_data.plot(\n",
        "            ax=axes[i // 2, i % 2],\n",
        "            color=c,\n",
        "            title=\"{} - {}\".format(titles[i], key),\n",
        "            rot=25,\n",
        "        )\n",
        "        ax.legend([titles[i]])\n",
        "    plt.tight_layout()\n",
        "\n",
        "\n",
        "show_raw_visualization(df)"
      ],
      "metadata": {
        "colab": {
          "base_uri": "https://localhost:8080/",
          "height": 1000
        },
        "id": "NxVpGnl1OcAk",
        "outputId": "d303ae79-a555-43d2-8cae-4ba0df6d584f"
      },
      "execution_count": null,
      "outputs": [
        {
          "output_type": "display_data",
          "data": {
            "text/plain": [
              "<Figure size 1200x1600 with 10 Axes>"
            ],
            "image/png": "[encoded data removed]"
          },
          "metadata": {}
        }
      ]
    },
    {
      "cell_type": "code",
      "source": [
        "plt.figure(figsize=(12,10))\n",
        "cor = df.corr()\n",
        "sns.heatmap(cor, annot=True, cmap=plt.cm.Reds)\n",
        "plt.show()"
      ],
      "metadata": {
        "colab": {
          "base_uri": "https://localhost:8080/",
          "height": 602
        },
        "id": "7752wZJcPYoM",
        "outputId": "c2414b7b-57b4-4686-d8fb-9749565d1a80"
      },
      "execution_count": null,
      "outputs": [
        {
          "output_type": "display_data",
          "data": {
            "text/plain": [
              "<Figure size 864x720 with 2 Axes>"
            ],
            "image/png": "[encoded data removed]"
          },
          "metadata": {
            "needs_background": "light"
          }
        }
      ]
    },
    {
      "cell_type": "code",
      "source": [
        "#Correlation with output variable\n",
        "cor_target = abs(cor[\"close\"])\n",
        "#Selecting highly correlated features\n",
        "relevant_features = cor_target[cor_target>0.85]"
      ],
      "metadata": {
        "id": "vcyBoUdeOd_0"
      },
      "execution_count": null,
      "outputs": []
    },
    {
      "cell_type": "code",
      "source": [
        "relevant_features"
      ],
      "metadata": {
        "colab": {
          "base_uri": "https://localhost:8080/"
        },
        "id": "HZTKwHt3O4eR",
        "outputId": "fa7945cc-0d27-4d91-c70c-f43ed5981c37"
      },
      "execution_count": null,
      "outputs": [
        {
          "output_type": "execute_result",
          "data": {
            "text/plain": [
              "open     0.999999\n",
              "high     0.999999\n",
              "low      0.999999\n",
              "close    1.000000\n",
              "Name: close, dtype: float64"
            ]
          },
          "metadata": {},
          "execution_count": 23
        }
      ]
    },
    {
      "cell_type": "code",
      "source": [
        "df = df.reset_index(drop=True)"
      ],
      "metadata": {
        "id": "Of-0EzncMivG"
      },
      "execution_count": null,
      "outputs": []
    },
    {
      "cell_type": "code",
      "source": [
        "split_fraction = 0.99\n",
        "train_split = int(split_fraction * int(df.shape[0]))\n",
        "step = 1\n",
        "\n",
        "past = 720\n",
        "future = 120\n",
        "learning_rate = 0.00001\n",
        "batch_size = 32\n",
        "epochs = 5"
      ],
      "metadata": {
        "id": "ZQBcSc0fO6rJ"
      },
      "execution_count": null,
      "outputs": []
    },
    {
      "cell_type": "code",
      "source": [
        "def normalize(data, train_split):\n",
        "    data_mean = data[:train_split].mean(axis=0)\n",
        "    data_std = data[:train_split].std(axis=0)\n",
        "    return (data - data_mean) / data_std, data_mean, data_std\n",
        "    #return data[:train_split]"
      ],
      "metadata": {
        "id": "0E4gpQvRVOJp"
      },
      "execution_count": null,
      "outputs": []
    },
    {
      "cell_type": "code",
      "source": [
        "selected_features = list(relevant_features.keys())[:]\n",
        "print(\n",
        "    \"The selected parameters are:\",\n",
        "    \", \".join(selected_features),\n",
        ") #[feature_keys[i] for i in [3]]\n",
        "features = df[selected_features]\n",
        "features.index = df[date_time_key]\n",
        "features.head()\n",
        "\n",
        "features, scaler_mean, scaler_std = normalize(features.values, train_split)\n",
        "#features = normalize(features.values, train_split)\n",
        "features = pd.DataFrame(features)\n",
        "train_data = features.loc[0 : train_split - 1]\n",
        "val_data = features.loc[train_split:]"
      ],
      "metadata": {
        "id": "chu4YHgXVRl2",
        "colab": {
          "base_uri": "https://localhost:8080/"
        },
        "outputId": "e88a334c-f542-47e6-9800-738535777e3b"
      },
      "execution_count": null,
      "outputs": [
        {
          "output_type": "stream",
          "name": "stdout",
          "text": [
            "The selected parameters are: open, high, low, close\n"
          ]
        }
      ]
    },
    {
      "cell_type": "code",
      "source": [
        "df[train_split:]"
      ],
      "metadata": {
        "colab": {
          "base_uri": "https://localhost:8080/",
          "height": 424
        },
        "id": "mZEMI5OvbegS",
        "outputId": "25503fec-109c-4fbd-d80a-434df5cda1eb"
      },
      "execution_count": null,
      "outputs": [
        {
          "output_type": "execute_result",
          "data": {
            "text/plain": [
              "                       date      open      high       low     close\n",
              "1112252 2022-02-16 09:42:00  38201.90  38204.35  38174.65  38192.15\n",
              "1112253 2022-02-16 09:43:00  38190.00  38197.65  38163.90  38169.65\n",
              "1112254 2022-02-16 09:44:00  38165.80  38183.05  38144.00  38145.30\n",
              "1112255 2022-02-16 09:45:00  38146.45  38151.60  38131.80  38136.70\n",
              "1112256 2022-02-16 09:46:00  38137.80  38201.85  38122.00  38181.65\n",
              "...                     ...       ...       ...       ...       ...\n",
              "1123482 2022-03-31 15:27:00  36376.10  36379.25  36368.80  36371.55\n",
              "1123483 2022-03-31 15:28:00  36372.35  36386.15  36368.60  36370.30\n",
              "1123484 2022-03-31 15:29:00  36374.55  36374.55  36337.85  36355.50\n",
              "1123485 2022-03-31 15:30:00  36352.60  36375.00  36343.90  36371.00\n",
              "1123486 2022-03-31 15:31:00  36373.60  36373.60  36373.60  36373.60\n",
              "\n",
              "[11235 rows x 5 columns]"
            ],
            "text/html": [
              "\n",
              "  <div id=\"df-e03d7139-bc79-4695-8074-556efdc4676f\">\n",
              "    <div class=\"colab-df-container\">\n",
              "      <div>\n",
              "<style scoped>\n",
              "    .dataframe tbody tr th:only-of-type {\n",
              "        vertical-align: middle;\n",
              "    }\n",
              "\n",
              "    .dataframe tbody tr th {\n",
              "        vertical-align: top;\n",
              "    }\n",
              "\n",
              "    .dataframe thead th {\n",
              "        text-align: right;\n",
              "    }\n",
              "</style>\n",
              "<table border=\"1\" class=\"dataframe\">\n",
              "  <thead>\n",
              "    <tr style=\"text-align: right;\">\n",
              "      <th></th>\n",
              "      <th>date</th>\n",
              "      <th>open</th>\n",
              "      <th>high</th>\n",
              "      <th>low</th>\n",
              "      <th>close</th>\n",
              "    </tr>\n",
              "  </thead>\n",
              "  <tbody>\n",
              "    <tr>\n",
              "      <th>1112252</th>\n",
              "      <td>2022-02-16 09:42:00</td>\n",
              "      <td>38201.90</td>\n",
              "      <td>38204.35</td>\n",
              "      <td>38174.65</td>\n",
              "      <td>38192.15</td>\n",
              "    </tr>\n",
              "    <tr>\n",
              "      <th>1112253</th>\n",
              "      <td>2022-02-16 09:43:00</td>\n",
              "      <td>38190.00</td>\n",
              "      <td>38197.65</td>\n",
              "      <td>38163.90</td>\n",
              "      <td>38169.65</td>\n",
              "    </tr>\n",
              "    <tr>\n",
              "      <th>1112254</th>\n",
              "      <td>2022-02-16 09:44:00</td>\n",
              "      <td>38165.80</td>\n",
              "      <td>38183.05</td>\n",
              "      <td>38144.00</td>\n",
              "      <td>38145.30</td>\n",
              "    </tr>\n",
              "    <tr>\n",
              "      <th>1112255</th>\n",
              "      <td>2022-02-16 09:45:00</td>\n",
              "      <td>38146.45</td>\n",
              "      <td>38151.60</td>\n",
              "      <td>38131.80</td>\n",
              "      <td>38136.70</td>\n",
              "    </tr>\n",
              "    <tr>\n",
              "      <th>1112256</th>\n",
              "      <td>2022-02-16 09:46:00</td>\n",
              "      <td>38137.80</td>\n",
              "      <td>38201.85</td>\n",
              "      <td>38122.00</td>\n",
              "      <td>38181.65</td>\n",
              "    </tr>\n",
              "    <tr>\n",
              "      <th>...</th>\n",
              "      <td>...</td>\n",
              "      <td>...</td>\n",
              "      <td>...</td>\n",
              "      <td>...</td>\n",
              "      <td>...</td>\n",
              "    </tr>\n",
              "    <tr>\n",
              "      <th>1123482</th>\n",
              "      <td>2022-03-31 15:27:00</td>\n",
              "      <td>36376.10</td>\n",
              "      <td>36379.25</td>\n",
              "      <td>36368.80</td>\n",
              "      <td>36371.55</td>\n",
              "    </tr>\n",
              "    <tr>\n",
              "      <th>1123483</th>\n",
              "      <td>2022-03-31 15:28:00</td>\n",
              "      <td>36372.35</td>\n",
              "      <td>36386.15</td>\n",
              "      <td>36368.60</td>\n",
              "      <td>36370.30</td>\n",
              "    </tr>\n",
              "    <tr>\n",
              "      <th>1123484</th>\n",
              "      <td>2022-03-31 15:29:00</td>\n",
              "      <td>36374.55</td>\n",
              "      <td>36374.55</td>\n",
              "      <td>36337.85</td>\n",
              "      <td>36355.50</td>\n",
              "    </tr>\n",
              "    <tr>\n",
              "      <th>1123485</th>\n",
              "      <td>2022-03-31 15:30:00</td>\n",
              "      <td>36352.60</td>\n",
              "      <td>36375.00</td>\n",
              "      <td>36343.90</td>\n",
              "      <td>36371.00</td>\n",
              "    </tr>\n",
              "    <tr>\n",
              "      <th>1123486</th>\n",
              "      <td>2022-03-31 15:31:00</td>\n",
              "      <td>36373.60</td>\n",
              "      <td>36373.60</td>\n",
              "      <td>36373.60</td>\n",
              "      <td>36373.60</td>\n",
              "    </tr>\n",
              "  </tbody>\n",
              "</table>\n",
              "<p>11235 rows × 5 columns</p>\n",
              "</div>\n",
              "      <button class=\"colab-df-convert\" onclick=\"convertToInteractive('df-e03d7139-bc79-4695-8074-556efdc4676f')\"\n",
              "              title=\"Convert this dataframe to an interactive table.\"\n",
              "              style=\"display:none;\">\n",
              "        \n",
              "  <svg xmlns=\"http://www.w3.org/2000/svg\" height=\"24px\"viewBox=\"0 0 24 24\"\n",
              "       width=\"24px\">\n",
              "    <path d=\"M0 0h24v24H0V0z\" fill=\"none\"/>\n",
              "    <path d=\"M18.56 5.44l.94 2.06.94-2.06 2.06-.94-2.06-.94-.94-2.06-.94 2.06-2.06.94zm-11 1L8.5 8.5l.94-2.06 2.06-.94-2.06-.94L8.5 2.5l-.94 2.06-2.06.94zm10 10l.94 2.06.94-2.06 2.06-.94-2.06-.94-.94-2.06-.94 2.06-2.06.94z\"/><path d=\"M17.41 7.96l-1.37-1.37c-.4-.4-.92-.59-1.43-.59-.52 0-1.04.2-1.43.59L10.3 9.45l-7.72 7.72c-.78.78-.78 2.05 0 2.83L4 21.41c.39.39.9.59 1.41.59.51 0 1.02-.2 1.41-.59l7.78-7.78 2.81-2.81c.8-.78.8-2.07 0-2.86zM5.41 20L4 18.59l7.72-7.72 1.47 1.35L5.41 20z\"/>\n",
              "  </svg>\n",
              "      </button>\n",
              "      \n",
              "  <style>\n",
              "    .colab-df-container {\n",
              "      display:flex;\n",
              "      flex-wrap:wrap;\n",
              "      gap: 12px;\n",
              "    }\n",
              "\n",
              "    .colab-df-convert {\n",
              "      background-color: #E8F0FE;\n",
              "      border: none;\n",
              "      border-radius: 50%;\n",
              "      cursor: pointer;\n",
              "      display: none;\n",
              "      fill: #1967D2;\n",
              "      height: 32px;\n",
              "      padding: 0 0 0 0;\n",
              "      width: 32px;\n",
              "    }\n",
              "\n",
              "    .colab-df-convert:hover {\n",
              "      background-color: #E2EBFA;\n",
              "      box-shadow: 0px 1px 2px rgba(60, 64, 67, 0.3), 0px 1px 3px 1px rgba(60, 64, 67, 0.15);\n",
              "      fill: #174EA6;\n",
              "    }\n",
              "\n",
              "    [theme=dark] .colab-df-convert {\n",
              "      background-color: #3B4455;\n",
              "      fill: #D2E3FC;\n",
              "    }\n",
              "\n",
              "    [theme=dark] .colab-df-convert:hover {\n",
              "      background-color: #434B5C;\n",
              "      box-shadow: 0px 1px 3px 1px rgba(0, 0, 0, 0.15);\n",
              "      filter: drop-shadow(0px 1px 2px rgba(0, 0, 0, 0.3));\n",
              "      fill: #FFFFFF;\n",
              "    }\n",
              "  </style>\n",
              "\n",
              "      <script>\n",
              "        const buttonEl =\n",
              "          document.querySelector('#df-e03d7139-bc79-4695-8074-556efdc4676f button.colab-df-convert');\n",
              "        buttonEl.style.display =\n",
              "          google.colab.kernel.accessAllowed ? 'block' : 'none';\n",
              "\n",
              "        async function convertToInteractive(key) {\n",
              "          const element = document.querySelector('#df-e03d7139-bc79-4695-8074-556efdc4676f');\n",
              "          const dataTable =\n",
              "            await google.colab.kernel.invokeFunction('convertToInteractive',\n",
              "                                                     [key], {});\n",
              "          if (!dataTable) return;\n",
              "\n",
              "          const docLinkHtml = 'Like what you see? Visit the ' +\n",
              "            '<a target=\"_blank\" href=https://colab.research.google.com/notebooks/data_table.ipynb>data table notebook</a>'\n",
              "            + ' to learn more about interactive tables.';\n",
              "          element.innerHTML = '';\n",
              "          dataTable['output_type'] = 'display_data';\n",
              "          await google.colab.output.renderOutput(dataTable, element);\n",
              "          const docLink = document.createElement('div');\n",
              "          docLink.innerHTML = docLinkHtml;\n",
              "          element.appendChild(docLink);\n",
              "        }\n",
              "      </script>\n",
              "    </div>\n",
              "  </div>\n",
              "  "
            ]
          },
          "metadata": {},
          "execution_count": 28
        }
      ]
    },
    {
      "cell_type": "code",
      "source": [
        "selected_features"
      ],
      "metadata": {
        "colab": {
          "base_uri": "https://localhost:8080/"
        },
        "id": "_qfWizMhmJVr",
        "outputId": "6461e48e-1d3a-4e20-9531-6f1ae44c8700"
      },
      "execution_count": null,
      "outputs": [
        {
          "output_type": "execute_result",
          "data": {
            "text/plain": [
              "['open', 'high', 'low', 'close']"
            ]
          },
          "metadata": {},
          "execution_count": 29
        }
      ]
    },
    {
      "cell_type": "code",
      "source": [
        "len(selected_features)"
      ],
      "metadata": {
        "colab": {
          "base_uri": "https://localhost:8080/"
        },
        "id": "gAOFffrhVS4q",
        "outputId": "dcd6861a-63b6-408b-da57-42a1830a0d46"
      },
      "execution_count": null,
      "outputs": [
        {
          "output_type": "execute_result",
          "data": {
            "text/plain": [
              "4"
            ]
          },
          "metadata": {},
          "execution_count": 30
        }
      ]
    },
    {
      "cell_type": "code",
      "source": [
        "df.loc[0 : train_split - 1].to_csv(\"training_BANKNIFTY.csv\", encoding=\"utf-8\")"
      ],
      "metadata": {
        "id": "4S9O1T-rmB81"
      },
      "execution_count": null,
      "outputs": []
    },
    {
      "cell_type": "code",
      "source": [
        "df.loc[train_split:].to_csv(\"testing_BANKNIFTY.csv\", encoding=\"utf-8\")"
      ],
      "metadata": {
        "id": "Gclce9iZmXqq"
      },
      "execution_count": null,
      "outputs": []
    },
    {
      "cell_type": "code",
      "source": [
        "df[selected_features]"
      ],
      "metadata": {
        "colab": {
          "base_uri": "https://localhost:8080/",
          "height": 424
        },
        "id": "xN5P-6j014RI",
        "outputId": "7b3b2da8-4595-416c-b804-47e31223323d"
      },
      "execution_count": null,
      "outputs": [
        {
          "output_type": "execute_result",
          "data": {
            "text/plain": [
              "             open      high       low     close\n",
              "0         8826.90   8856.95   8826.90   8839.80\n",
              "1         8840.75   8853.90   8832.80   8852.30\n",
              "2         8855.70   8855.70   8844.65   8846.65\n",
              "3         8843.85   8850.70   8843.75   8846.70\n",
              "4         8846.40   8846.40   8837.75   8841.60\n",
              "...           ...       ...       ...       ...\n",
              "1123482  36376.10  36379.25  36368.80  36371.55\n",
              "1123483  36372.35  36386.15  36368.60  36370.30\n",
              "1123484  36374.55  36374.55  36337.85  36355.50\n",
              "1123485  36352.60  36375.00  36343.90  36371.00\n",
              "1123486  36373.60  36373.60  36373.60  36373.60\n",
              "\n",
              "[1123487 rows x 4 columns]"
            ],
            "text/html": [
              "\n",
              "  <div id=\"df-a0b28b52-5110-4622-867f-826ed3d32b3f\">\n",
              "    <div class=\"colab-df-container\">\n",
              "      <div>\n",
              "<style scoped>\n",
              "    .dataframe tbody tr th:only-of-type {\n",
              "        vertical-align: middle;\n",
              "    }\n",
              "\n",
              "    .dataframe tbody tr th {\n",
              "        vertical-align: top;\n",
              "    }\n",
              "\n",
              "    .dataframe thead th {\n",
              "        text-align: right;\n",
              "    }\n",
              "</style>\n",
              "<table border=\"1\" class=\"dataframe\">\n",
              "  <thead>\n",
              "    <tr style=\"text-align: right;\">\n",
              "      <th></th>\n",
              "      <th>open</th>\n",
              "      <th>high</th>\n",
              "      <th>low</th>\n",
              "      <th>close</th>\n",
              "    </tr>\n",
              "  </thead>\n",
              "  <tbody>\n",
              "    <tr>\n",
              "      <th>0</th>\n",
              "      <td>8826.90</td>\n",
              "      <td>8856.95</td>\n",
              "      <td>8826.90</td>\n",
              "      <td>8839.80</td>\n",
              "    </tr>\n",
              "    <tr>\n",
              "      <th>1</th>\n",
              "      <td>8840.75</td>\n",
              "      <td>8853.90</td>\n",
              "      <td>8832.80</td>\n",
              "      <td>8852.30</td>\n",
              "    </tr>\n",
              "    <tr>\n",
              "      <th>2</th>\n",
              "      <td>8855.70</td>\n",
              "      <td>8855.70</td>\n",
              "      <td>8844.65</td>\n",
              "      <td>8846.65</td>\n",
              "    </tr>\n",
              "    <tr>\n",
              "      <th>3</th>\n",
              "      <td>8843.85</td>\n",
              "      <td>8850.70</td>\n",
              "      <td>8843.75</td>\n",
              "      <td>8846.70</td>\n",
              "    </tr>\n",
              "    <tr>\n",
              "      <th>4</th>\n",
              "      <td>8846.40</td>\n",
              "      <td>8846.40</td>\n",
              "      <td>8837.75</td>\n",
              "      <td>8841.60</td>\n",
              "    </tr>\n",
              "    <tr>\n",
              "      <th>...</th>\n",
              "      <td>...</td>\n",
              "      <td>...</td>\n",
              "      <td>...</td>\n",
              "      <td>...</td>\n",
              "    </tr>\n",
              "    <tr>\n",
              "      <th>1123482</th>\n",
              "      <td>36376.10</td>\n",
              "      <td>36379.25</td>\n",
              "      <td>36368.80</td>\n",
              "      <td>36371.55</td>\n",
              "    </tr>\n",
              "    <tr>\n",
              "      <th>1123483</th>\n",
              "      <td>36372.35</td>\n",
              "      <td>36386.15</td>\n",
              "      <td>36368.60</td>\n",
              "      <td>36370.30</td>\n",
              "    </tr>\n",
              "    <tr>\n",
              "      <th>1123484</th>\n",
              "      <td>36374.55</td>\n",
              "      <td>36374.55</td>\n",
              "      <td>36337.85</td>\n",
              "      <td>36355.50</td>\n",
              "    </tr>\n",
              "    <tr>\n",
              "      <th>1123485</th>\n",
              "      <td>36352.60</td>\n",
              "      <td>36375.00</td>\n",
              "      <td>36343.90</td>\n",
              "      <td>36371.00</td>\n",
              "    </tr>\n",
              "    <tr>\n",
              "      <th>1123486</th>\n",
              "      <td>36373.60</td>\n",
              "      <td>36373.60</td>\n",
              "      <td>36373.60</td>\n",
              "      <td>36373.60</td>\n",
              "    </tr>\n",
              "  </tbody>\n",
              "</table>\n",
              "<p>1123487 rows × 4 columns</p>\n",
              "</div>\n",
              "      <button class=\"colab-df-convert\" onclick=\"convertToInteractive('df-a0b28b52-5110-4622-867f-826ed3d32b3f')\"\n",
              "              title=\"Convert this dataframe to an interactive table.\"\n",
              "              style=\"display:none;\">\n",
              "        \n",
              "  <svg xmlns=\"http://www.w3.org/2000/svg\" height=\"24px\"viewBox=\"0 0 24 24\"\n",
              "       width=\"24px\">\n",
              "    <path d=\"M0 0h24v24H0V0z\" fill=\"none\"/>\n",
              "    <path d=\"M18.56 5.44l.94 2.06.94-2.06 2.06-.94-2.06-.94-.94-2.06-.94 2.06-2.06.94zm-11 1L8.5 8.5l.94-2.06 2.06-.94-2.06-.94L8.5 2.5l-.94 2.06-2.06.94zm10 10l.94 2.06.94-2.06 2.06-.94-2.06-.94-.94-2.06-.94 2.06-2.06.94z\"/><path d=\"M17.41 7.96l-1.37-1.37c-.4-.4-.92-.59-1.43-.59-.52 0-1.04.2-1.43.59L10.3 9.45l-7.72 7.72c-.78.78-.78 2.05 0 2.83L4 21.41c.39.39.9.59 1.41.59.51 0 1.02-.2 1.41-.59l7.78-7.78 2.81-2.81c.8-.78.8-2.07 0-2.86zM5.41 20L4 18.59l7.72-7.72 1.47 1.35L5.41 20z\"/>\n",
              "  </svg>\n",
              "      </button>\n",
              "      \n",
              "  <style>\n",
              "    .colab-df-container {\n",
              "      display:flex;\n",
              "      flex-wrap:wrap;\n",
              "      gap: 12px;\n",
              "    }\n",
              "\n",
              "    .colab-df-convert {\n",
              "      background-color: #E8F0FE;\n",
              "      border: none;\n",
              "      border-radius: 50%;\n",
              "      cursor: pointer;\n",
              "      display: none;\n",
              "      fill: #1967D2;\n",
              "      height: 32px;\n",
              "      padding: 0 0 0 0;\n",
              "      width: 32px;\n",
              "    }\n",
              "\n",
              "    .colab-df-convert:hover {\n",
              "      background-color: #E2EBFA;\n",
              "      box-shadow: 0px 1px 2px rgba(60, 64, 67, 0.3), 0px 1px 3px 1px rgba(60, 64, 67, 0.15);\n",
              "      fill: #174EA6;\n",
              "    }\n",
              "\n",
              "    [theme=dark] .colab-df-convert {\n",
              "      background-color: #3B4455;\n",
              "      fill: #D2E3FC;\n",
              "    }\n",
              "\n",
              "    [theme=dark] .colab-df-convert:hover {\n",
              "      background-color: #434B5C;\n",
              "      box-shadow: 0px 1px 3px 1px rgba(0, 0, 0, 0.15);\n",
              "      filter: drop-shadow(0px 1px 2px rgba(0, 0, 0, 0.3));\n",
              "      fill: #FFFFFF;\n",
              "    }\n",
              "  </style>\n",
              "\n",
              "      <script>\n",
              "        const buttonEl =\n",
              "          document.querySelector('#df-a0b28b52-5110-4622-867f-826ed3d32b3f button.colab-df-convert');\n",
              "        buttonEl.style.display =\n",
              "          google.colab.kernel.accessAllowed ? 'block' : 'none';\n",
              "\n",
              "        async function convertToInteractive(key) {\n",
              "          const element = document.querySelector('#df-a0b28b52-5110-4622-867f-826ed3d32b3f');\n",
              "          const dataTable =\n",
              "            await google.colab.kernel.invokeFunction('convertToInteractive',\n",
              "                                                     [key], {});\n",
              "          if (!dataTable) return;\n",
              "\n",
              "          const docLinkHtml = 'Like what you see? Visit the ' +\n",
              "            '<a target=\"_blank\" href=https://colab.research.google.com/notebooks/data_table.ipynb>data table notebook</a>'\n",
              "            + ' to learn more about interactive tables.';\n",
              "          element.innerHTML = '';\n",
              "          dataTable['output_type'] = 'display_data';\n",
              "          await google.colab.output.renderOutput(dataTable, element);\n",
              "          const docLink = document.createElement('div');\n",
              "          docLink.innerHTML = docLinkHtml;\n",
              "          element.appendChild(docLink);\n",
              "        }\n",
              "      </script>\n",
              "    </div>\n",
              "  </div>\n",
              "  "
            ]
          },
          "metadata": {},
          "execution_count": 33
        }
      ]
    },
    {
      "cell_type": "code",
      "source": [
        "start = past + future\n",
        "end = start + train_split\n",
        "\n",
        "x_train = train_data[[i for i in range(len(selected_features))]].values\n",
        "y_train = features.iloc[start:end][[0, 1, 2, 3]].values\n",
        "\n",
        "sequence_length = int(past / step)"
      ],
      "metadata": {
        "id": "CoyoDcxUWGbW"
      },
      "execution_count": null,
      "outputs": []
    },
    {
      "cell_type": "code",
      "source": [
        "x_train, x_train.shape"
      ],
      "metadata": {
        "colab": {
          "base_uri": "https://localhost:8080/"
        },
        "id": "F4sp9z21WIDa",
        "outputId": "2c94234f-7e8e-4acd-c6fe-081fb67bc427"
      },
      "execution_count": null,
      "outputs": [
        {
          "output_type": "execute_result",
          "data": {
            "text/plain": [
              "(array([[-1.27001789, -1.26676325, -1.26970884, -1.26848529],\n",
              "        [-1.26837473, -1.26712498, -1.26900862, -1.26700228],\n",
              "        [-1.26660106, -1.2669115 , -1.26760224, -1.2676726 ],\n",
              "        ...,\n",
              "        [ 2.2100598 ,  2.21938527,  2.21088671,  2.21991276],\n",
              "        [ 2.21997219,  2.21846613,  2.21430475,  2.21509596],\n",
              "        [ 2.21332241,  2.21503267,  2.2138953 ,  2.21498918]]), (1112252, 4))"
            ]
          },
          "metadata": {},
          "execution_count": 35
        }
      ]
    },
    {
      "cell_type": "code",
      "source": [
        "y_train, y_train.shape"
      ],
      "metadata": {
        "colab": {
          "base_uri": "https://localhost:8080/"
        },
        "id": "HRtw4EG8WJbv",
        "outputId": "93a195a4-224b-4227-b8cd-93ac015fafad"
      },
      "execution_count": null,
      "outputs": [
        {
          "output_type": "execute_result",
          "data": {
            "text/plain": [
              "(array([[-1.24378655, -1.24399215, -1.24384212, -1.2441106 ],\n",
              "        [-1.24429671, -1.24430644, -1.24413883, -1.24400976],\n",
              "        [-1.24404163, -1.24389727, -1.24373531, -1.24357672],\n",
              "        ...,\n",
              "        [ 2.13845453,  2.13737374,  2.13703691,  2.13683477],\n",
              "        [ 2.13695967,  2.13548207,  2.13640196,  2.13649071],\n",
              "        [ 2.1363902 ,  2.13665621,  2.13789735,  2.13739831]]), (1112252, 4))"
            ]
          },
          "metadata": {},
          "execution_count": 36
        }
      ]
    },
    {
      "cell_type": "code",
      "source": [
        "dataset_train = tf.keras.preprocessing.timeseries_dataset_from_array(\n",
        "    x_train,\n",
        "    y_train,\n",
        "    sequence_length=sequence_length,\n",
        "    sampling_rate=step,\n",
        "    batch_size=batch_size,\n",
        ")"
      ],
      "metadata": {
        "id": "sGcLljgGWLDi"
      },
      "execution_count": null,
      "outputs": []
    },
    {
      "cell_type": "code",
      "source": [
        "x_end = len(val_data) - past - future\n",
        "\n",
        "label_start = train_split + past + future\n",
        "\n",
        "x_val = val_data.iloc[:x_end][[i for i in range(len(selected_features))]].values\n",
        "y_val = features.iloc[label_start:][[0, 1, 2, 3]]\n",
        "\n",
        "dataset_val = tf.keras.preprocessing.timeseries_dataset_from_array(\n",
        "    x_val,\n",
        "    y_val,\n",
        "    sequence_length=sequence_length,\n",
        "    sampling_rate=step,\n",
        "    batch_size=batch_size,\n",
        ")\n",
        "\n",
        "\n",
        "for batch in dataset_train.take(1):\n",
        "    inputs, targets = batch\n",
        "\n",
        "print(\"Input shape:\", inputs.numpy().shape)\n",
        "print(\"Target shape:\", targets.numpy().shape)"
      ],
      "metadata": {
        "colab": {
          "base_uri": "https://localhost:8080/"
        },
        "id": "MazQVTGjWMuv",
        "outputId": "0ac3b012-a963-4160-bb3e-030d51b88231"
      },
      "execution_count": null,
      "outputs": [
        {
          "output_type": "stream",
          "name": "stdout",
          "text": [
            "Input shape: (32, 720, 4)\n",
            "Target shape: (32, 4)\n"
          ]
        }
      ]
    },
    {
      "cell_type": "code",
      "source": [
        "inputs = tf.keras.layers.Input(shape=(inputs.shape[1], inputs.shape[2]))\n",
        "conv = tf.keras.layers.Conv1D(filters=8, kernel_size=7, activation=\"relu\")(inputs)\n",
        "conv = tf.keras.layers.Conv1D(filters=4, kernel_size=11, activation=\"relu\")(conv)\n",
        "lstm_out = tf.keras.layers.LSTM(16)(conv)\n",
        "dense_out = tf.keras.layers.Dense(16, activation=\"relu\")(lstm_out)\n",
        "dropped_out = tf.keras.layers.Dropout(0.4)(dense_out)\n",
        "outputs = tf.keras.layers.Dense(4)(dropped_out)\n",
        "\n",
        "model = tf.keras.Model(inputs=inputs, outputs=outputs)\n",
        "model.compile(optimizer=tf.keras.optimizers.Adam(learning_rate=learning_rate), loss=\"mse\")\n",
        "model.summary()"
      ],
      "metadata": {
        "colab": {
          "base_uri": "https://localhost:8080/"
        },
        "id": "Ao_IUZiRWWfo",
        "outputId": "1541f15d-c9dd-46bb-bf35-fdef043617c0"
      },
      "execution_count": null,
      "outputs": [
        {
          "output_type": "stream",
          "name": "stdout",
          "text": [
            "Model: \"model\"\n",
            "_________________________________________________________________\n",
            " Layer (type)                Output Shape              Param #   \n",
            "=================================================================\n",
            " input_1 (InputLayer)        [(None, 720, 4)]          0         \n",
            "                                                                 \n",
            " conv1d (Conv1D)             (None, 714, 8)            232       \n",
            "                                                                 \n",
            " conv1d_1 (Conv1D)           (None, 704, 4)            356       \n",
            "                                                                 \n",
            " lstm (LSTM)                 (None, 16)                1344      \n",
            "                                                                 \n",
            " dense (Dense)               (None, 16)                272       \n",
            "                                                                 \n",
            " dropout (Dropout)           (None, 16)                0         \n",
            "                                                                 \n",
            " dense_1 (Dense)             (None, 4)                 68        \n",
            "                                                                 \n",
            "=================================================================\n",
            "Total params: 2,272\n",
            "Trainable params: 2,272\n",
            "Non-trainable params: 0\n",
            "_________________________________________________________________\n"
          ]
        }
      ]
    },
    {
      "cell_type": "code",
      "source": [
        "random_preds = model.predict(dataset_val)"
      ],
      "metadata": {
        "id": "rVKRkX4xnJ95"
      },
      "execution_count": null,
      "outputs": []
    },
    {
      "cell_type": "code",
      "source": [
        "test_df = pd.read_csv(\"/content/testing_BANKNIFTY.csv\")"
      ],
      "metadata": {
        "id": "Ka2W8rdjq7uD"
      },
      "execution_count": null,
      "outputs": []
    },
    {
      "cell_type": "code",
      "source": [
        "test_df = test_df[719:-720].reset_index(drop=True)\n",
        "test_df = test_df[120:].reset_index(drop=True)"
      ],
      "metadata": {
        "id": "yo62nRkGz9Hv"
      },
      "execution_count": null,
      "outputs": []
    },
    {
      "cell_type": "code",
      "source": [
        "len(test_df)"
      ],
      "metadata": {
        "colab": {
          "base_uri": "https://localhost:8080/"
        },
        "id": "yBqLBDI1q9sY",
        "outputId": "fd69cf9b-3fe1-4db0-f320-234b6b58432a"
      },
      "execution_count": null,
      "outputs": [
        {
          "output_type": "execute_result",
          "data": {
            "text/plain": [
              "9676"
            ]
          },
          "metadata": {},
          "execution_count": 43
        }
      ]
    },
    {
      "cell_type": "code",
      "source": [
        "random_preds.shape"
      ],
      "metadata": {
        "colab": {
          "base_uri": "https://localhost:8080/"
        },
        "id": "OIag7WKJqOcF",
        "outputId": "b6d868ef-2381-40b0-9a7f-4e3d2a1d02f4"
      },
      "execution_count": null,
      "outputs": [
        {
          "output_type": "execute_result",
          "data": {
            "text/plain": [
              "(9676, 4)"
            ]
          },
          "metadata": {},
          "execution_count": 44
        }
      ]
    },
    {
      "cell_type": "code",
      "source": [
        "len(test_df) - random_preds.shape[0]"
      ],
      "metadata": {
        "colab": {
          "base_uri": "https://localhost:8080/"
        },
        "id": "s4o5xWaKnQg5",
        "outputId": "2c8b4f69-d5bb-4fc3-d9a0-1b9588b6f6d7"
      },
      "execution_count": null,
      "outputs": [
        {
          "output_type": "execute_result",
          "data": {
            "text/plain": [
              "0"
            ]
          },
          "metadata": {},
          "execution_count": 45
        }
      ]
    },
    {
      "cell_type": "code",
      "source": [
        "path_checkpoint = \"model_checkpoint.h5\"\n",
        "es_callback = tf.keras.callbacks.EarlyStopping(monitor=\"val_loss\", min_delta=0, patience=2)\n",
        "\n",
        "modelckpt_callback = tf.keras.callbacks.ModelCheckpoint(\n",
        "    monitor=\"val_loss\",\n",
        "    filepath=path_checkpoint,\n",
        "    verbose=1,\n",
        "    save_weights_only=True,\n",
        "    save_best_only=True,\n",
        ")\n",
        "\n",
        "history = model.fit(\n",
        "    dataset_train,\n",
        "    epochs=epochs,\n",
        "    validation_data=dataset_val,\n",
        "    callbacks=[es_callback, modelckpt_callback],\n",
        ")"
      ],
      "metadata": {
        "colab": {
          "base_uri": "https://localhost:8080/"
        },
        "id": "jfMBS3YhWfOr",
        "outputId": "800b6dcf-fd5f-4823-d4df-59508351ccf1"
      },
      "execution_count": null,
      "outputs": [
        {
          "output_type": "stream",
          "name": "stdout",
          "text": [
            "Epoch 1/5\n",
            "34735/34736 [============================>.] - ETA: 0s - loss: 0.2610\n",
            "Epoch 1: val_loss improved from inf to 0.01943, saving model to model_checkpoint.h5\n",
            "34736/34736 [==============================] - 802s 23ms/step - loss: 0.2610 - val_loss: 0.0194\n",
            "Epoch 2/5\n",
            "34734/34736 [============================>.] - ETA: 0s - loss: 0.1356\n",
            "Epoch 2: val_loss improved from 0.01943 to 0.00847, saving model to model_checkpoint.h5\n",
            "34736/34736 [==============================] - 798s 23ms/step - loss: 0.1356 - val_loss: 0.0085\n",
            "Epoch 3/5\n",
            "34735/34736 [============================>.] - ETA: 0s - loss: 0.1132\n",
            "Epoch 3: val_loss improved from 0.00847 to 0.00656, saving model to model_checkpoint.h5\n",
            "34736/34736 [==============================] - 798s 23ms/step - loss: 0.1132 - val_loss: 0.0066\n",
            "Epoch 4/5\n",
            "34735/34736 [============================>.] - ETA: 0s - loss: 0.1012\n",
            "Epoch 4: val_loss improved from 0.00656 to 0.00628, saving model to model_checkpoint.h5\n",
            "34736/34736 [==============================] - 803s 23ms/step - loss: 0.1012 - val_loss: 0.0063\n",
            "Epoch 5/5\n",
            "34734/34736 [============================>.] - ETA: 0s - loss: 0.0947\n",
            "Epoch 5: val_loss improved from 0.00628 to 0.00587, saving model to model_checkpoint.h5\n",
            "34736/34736 [==============================] - 786s 23ms/step - loss: 0.0947 - val_loss: 0.0059\n"
          ]
        }
      ]
    },
    {
      "cell_type": "code",
      "source": [
        "def visualize_loss(history, title):\n",
        "    \n",
        "    loss = history.history[\"loss\"]\n",
        "    val_loss = history.history[\"val_loss\"]\n",
        "    epochs = range(len(loss))\n",
        "    plt.figure()\n",
        "    plt.plot(epochs, loss, \"b\", label=\"Training loss\")\n",
        "    plt.plot(epochs, val_loss, \"r\", label=\"Validation loss\")\n",
        "    plt.title(title)\n",
        "    plt.xlabel(\"Epochs\")\n",
        "    plt.ylabel(\"Loss\")\n",
        "    plt.legend()\n",
        "    plt.show()\n",
        "\n",
        "\n",
        "visualize_loss(history, \"Training and Validation Loss\")"
      ],
      "metadata": {
        "colab": {
          "base_uri": "https://localhost:8080/",
          "height": 295
        },
        "id": "epYQkk8XWqpN",
        "outputId": "9ed30daa-cc20-4c2c-a097-c59b2def9e34"
      },
      "execution_count": null,
      "outputs": [
        {
          "output_type": "display_data",
          "data": {
            "text/plain": [
              "<Figure size 432x288 with 1 Axes>"
            ],
            "image/png": "[encoded data removed]"
          },
          "metadata": {
            "needs_background": "light"
          }
        }
      ]
    },
    {
      "cell_type": "code",
      "source": [
        "preds = model.predict(dataset_val)"
      ],
      "metadata": {
        "id": "qpDwPwyK7vx0"
      },
      "execution_count": null,
      "outputs": []
    },
    {
      "cell_type": "code",
      "source": [
        "preds.shape"
      ],
      "metadata": {
        "colab": {
          "base_uri": "https://localhost:8080/"
        },
        "id": "1-IByVuTJmeb",
        "outputId": "932a28ed-bcab-46fc-9486-e4af3b236b32"
      },
      "execution_count": null,
      "outputs": [
        {
          "output_type": "execute_result",
          "data": {
            "text/plain": [
              "(9676, 4)"
            ]
          },
          "metadata": {},
          "execution_count": 49
        }
      ]
    },
    {
      "cell_type": "code",
      "source": [
        "#scaler_std"
      ],
      "metadata": {
        "id": "8uaZxzdtKtup"
      },
      "execution_count": null,
      "outputs": []
    },
    {
      "cell_type": "code",
      "source": [
        "test_df"
      ],
      "metadata": {
        "colab": {
          "base_uri": "https://localhost:8080/",
          "height": 424
        },
        "id": "I0obeh9Xn_W7",
        "outputId": "149f1a9a-56f4-4977-eb5d-e5cedc8a7f32"
      },
      "execution_count": null,
      "outputs": [
        {
          "output_type": "execute_result",
          "data": {
            "text/plain": [
              "      Unnamed: 0                 date      open      high       low     close\n",
              "0        1113091  2022-02-18 11:05:00  37539.00  37553.70  37539.00  37547.40\n",
              "1        1113092  2022-02-18 11:06:00  37542.40  37572.70  37542.40  37571.05\n",
              "2        1113093  2022-02-18 11:07:00  37575.95  37582.45  37564.10  37565.55\n",
              "3        1113094  2022-02-18 11:08:00  37569.75  37577.05  37565.80  37569.65\n",
              "4        1113095  2022-02-18 11:09:00  37571.95  37581.70  37569.90  37573.45\n",
              "...          ...                  ...       ...       ...       ...       ...\n",
              "9671     1122762  2022-03-30 09:45:00  36153.15  36181.90  36153.15  36175.50\n",
              "9672     1122763  2022-03-30 09:46:00  36176.85  36180.55  36158.90  36170.25\n",
              "9673     1122764  2022-03-30 09:47:00  36173.80  36185.10  36168.55  36172.95\n",
              "9674     1122765  2022-03-30 09:48:00  36174.70  36182.50  36155.80  36156.45\n",
              "9675     1122766  2022-03-30 09:49:00  36161.35  36172.70  36156.10  36167.80\n",
              "\n",
              "[9676 rows x 6 columns]"
            ],
            "text/html": [
              "\n",
              "  <div id=\"df-c52d866c-1c2f-4e8a-9e6c-655e157939d6\">\n",
              "    <div class=\"colab-df-container\">\n",
              "      <div>\n",
              "<style scoped>\n",
              "    .dataframe tbody tr th:only-of-type {\n",
              "        vertical-align: middle;\n",
              "    }\n",
              "\n",
              "    .dataframe tbody tr th {\n",
              "        vertical-align: top;\n",
              "    }\n",
              "\n",
              "    .dataframe thead th {\n",
              "        text-align: right;\n",
              "    }\n",
              "</style>\n",
              "<table border=\"1\" class=\"dataframe\">\n",
              "  <thead>\n",
              "    <tr style=\"text-align: right;\">\n",
              "      <th></th>\n",
              "      <th>Unnamed: 0</th>\n",
              "      <th>date</th>\n",
              "      <th>open</th>\n",
              "      <th>high</th>\n",
              "      <th>low</th>\n",
              "      <th>close</th>\n",
              "    </tr>\n",
              "  </thead>\n",
              "  <tbody>\n",
              "    <tr>\n",
              "      <th>0</th>\n",
              "      <td>1113091</td>\n",
              "      <td>2022-02-18 11:05:00</td>\n",
              "      <td>37539.00</td>\n",
              "      <td>37553.70</td>\n",
              "      <td>37539.00</td>\n",
              "      <td>37547.40</td>\n",
              "    </tr>\n",
              "    <tr>\n",
              "      <th>1</th>\n",
              "      <td>1113092</td>\n",
              "      <td>2022-02-18 11:06:00</td>\n",
              "      <td>37542.40</td>\n",
              "      <td>37572.70</td>\n",
              "      <td>37542.40</td>\n",
              "      <td>37571.05</td>\n",
              "    </tr>\n",
              "    <tr>\n",
              "      <th>2</th>\n",
              "      <td>1113093</td>\n",
              "      <td>2022-02-18 11:07:00</td>\n",
              "      <td>37575.95</td>\n",
              "      <td>37582.45</td>\n",
              "      <td>37564.10</td>\n",
              "      <td>37565.55</td>\n",
              "    </tr>\n",
              "    <tr>\n",
              "      <th>3</th>\n",
              "      <td>1113094</td>\n",
              "      <td>2022-02-18 11:08:00</td>\n",
              "      <td>37569.75</td>\n",
              "      <td>37577.05</td>\n",
              "      <td>37565.80</td>\n",
              "      <td>37569.65</td>\n",
              "    </tr>\n",
              "    <tr>\n",
              "      <th>4</th>\n",
              "      <td>1113095</td>\n",
              "      <td>2022-02-18 11:09:00</td>\n",
              "      <td>37571.95</td>\n",
              "      <td>37581.70</td>\n",
              "      <td>37569.90</td>\n",
              "      <td>37573.45</td>\n",
              "    </tr>\n",
              "    <tr>\n",
              "      <th>...</th>\n",
              "      <td>...</td>\n",
              "      <td>...</td>\n",
              "      <td>...</td>\n",
              "      <td>...</td>\n",
              "      <td>...</td>\n",
              "      <td>...</td>\n",
              "    </tr>\n",
              "    <tr>\n",
              "      <th>9671</th>\n",
              "      <td>1122762</td>\n",
              "      <td>2022-03-30 09:45:00</td>\n",
              "      <td>36153.15</td>\n",
              "      <td>36181.90</td>\n",
              "      <td>36153.15</td>\n",
              "      <td>36175.50</td>\n",
              "    </tr>\n",
              "    <tr>\n",
              "      <th>9672</th>\n",
              "      <td>1122763</td>\n",
              "      <td>2022-03-30 09:46:00</td>\n",
              "      <td>36176.85</td>\n",
              "      <td>36180.55</td>\n",
              "      <td>36158.90</td>\n",
              "      <td>36170.25</td>\n",
              "    </tr>\n",
              "    <tr>\n",
              "      <th>9673</th>\n",
              "      <td>1122764</td>\n",
              "      <td>2022-03-30 09:47:00</td>\n",
              "      <td>36173.80</td>\n",
              "      <td>36185.10</td>\n",
              "      <td>36168.55</td>\n",
              "      <td>36172.95</td>\n",
              "    </tr>\n",
              "    <tr>\n",
              "      <th>9674</th>\n",
              "      <td>1122765</td>\n",
              "      <td>2022-03-30 09:48:00</td>\n",
              "      <td>36174.70</td>\n",
              "      <td>36182.50</td>\n",
              "      <td>36155.80</td>\n",
              "      <td>36156.45</td>\n",
              "    </tr>\n",
              "    <tr>\n",
              "      <th>9675</th>\n",
              "      <td>1122766</td>\n",
              "      <td>2022-03-30 09:49:00</td>\n",
              "      <td>36161.35</td>\n",
              "      <td>36172.70</td>\n",
              "      <td>36156.10</td>\n",
              "      <td>36167.80</td>\n",
              "    </tr>\n",
              "  </tbody>\n",
              "</table>\n",
              "<p>9676 rows × 6 columns</p>\n",
              "</div>\n",
              "      <button class=\"colab-df-convert\" onclick=\"convertToInteractive('df-c52d866c-1c2f-4e8a-9e6c-655e157939d6')\"\n",
              "              title=\"Convert this dataframe to an interactive table.\"\n",
              "              style=\"display:none;\">\n",
              "        \n",
              "  <svg xmlns=\"http://www.w3.org/2000/svg\" height=\"24px\"viewBox=\"0 0 24 24\"\n",
              "       width=\"24px\">\n",
              "    <path d=\"M0 0h24v24H0V0z\" fill=\"none\"/>\n",
              "    <path d=\"M18.56 5.44l.94 2.06.94-2.06 2.06-.94-2.06-.94-.94-2.06-.94 2.06-2.06.94zm-11 1L8.5 8.5l.94-2.06 2.06-.94-2.06-.94L8.5 2.5l-.94 2.06-2.06.94zm10 10l.94 2.06.94-2.06 2.06-.94-2.06-.94-.94-2.06-.94 2.06-2.06.94z\"/><path d=\"M17.41 7.96l-1.37-1.37c-.4-.4-.92-.59-1.43-.59-.52 0-1.04.2-1.43.59L10.3 9.45l-7.72 7.72c-.78.78-.78 2.05 0 2.83L4 21.41c.39.39.9.59 1.41.59.51 0 1.02-.2 1.41-.59l7.78-7.78 2.81-2.81c.8-.78.8-2.07 0-2.86zM5.41 20L4 18.59l7.72-7.72 1.47 1.35L5.41 20z\"/>\n",
              "  </svg>\n",
              "      </button>\n",
              "      \n",
              "  <style>\n",
              "    .colab-df-container {\n",
              "      display:flex;\n",
              "      flex-wrap:wrap;\n",
              "      gap: 12px;\n",
              "    }\n",
              "\n",
              "    .colab-df-convert {\n",
              "      background-color: #E8F0FE;\n",
              "      border: none;\n",
              "      border-radius: 50%;\n",
              "      cursor: pointer;\n",
              "      display: none;\n",
              "      fill: #1967D2;\n",
              "      height: 32px;\n",
              "      padding: 0 0 0 0;\n",
              "      width: 32px;\n",
              "    }\n",
              "\n",
              "    .colab-df-convert:hover {\n",
              "      background-color: #E2EBFA;\n",
              "      box-shadow: 0px 1px 2px rgba(60, 64, 67, 0.3), 0px 1px 3px 1px rgba(60, 64, 67, 0.15);\n",
              "      fill: #174EA6;\n",
              "    }\n",
              "\n",
              "    [theme=dark] .colab-df-convert {\n",
              "      background-color: #3B4455;\n",
              "      fill: #D2E3FC;\n",
              "    }\n",
              "\n",
              "    [theme=dark] .colab-df-convert:hover {\n",
              "      background-color: #434B5C;\n",
              "      box-shadow: 0px 1px 3px 1px rgba(0, 0, 0, 0.15);\n",
              "      filter: drop-shadow(0px 1px 2px rgba(0, 0, 0, 0.3));\n",
              "      fill: #FFFFFF;\n",
              "    }\n",
              "  </style>\n",
              "\n",
              "      <script>\n",
              "        const buttonEl =\n",
              "          document.querySelector('#df-c52d866c-1c2f-4e8a-9e6c-655e157939d6 button.colab-df-convert');\n",
              "        buttonEl.style.display =\n",
              "          google.colab.kernel.accessAllowed ? 'block' : 'none';\n",
              "\n",
              "        async function convertToInteractive(key) {\n",
              "          const element = document.querySelector('#df-c52d866c-1c2f-4e8a-9e6c-655e157939d6');\n",
              "          const dataTable =\n",
              "            await google.colab.kernel.invokeFunction('convertToInteractive',\n",
              "                                                     [key], {});\n",
              "          if (!dataTable) return;\n",
              "\n",
              "          const docLinkHtml = 'Like what you see? Visit the ' +\n",
              "            '<a target=\"_blank\" href=https://colab.research.google.com/notebooks/data_table.ipynb>data table notebook</a>'\n",
              "            + ' to learn more about interactive tables.';\n",
              "          element.innerHTML = '';\n",
              "          dataTable['output_type'] = 'display_data';\n",
              "          await google.colab.output.renderOutput(dataTable, element);\n",
              "          const docLink = document.createElement('div');\n",
              "          docLink.innerHTML = docLinkHtml;\n",
              "          element.appendChild(docLink);\n",
              "        }\n",
              "      </script>\n",
              "    </div>\n",
              "  </div>\n",
              "  "
            ]
          },
          "metadata": {},
          "execution_count": 51
        }
      ]
    },
    {
      "cell_type": "code",
      "source": [
        "test_df[[\"pred_OPEN\", \"pred_HIGH\", \"pred_LOW\", \"pred_CLOSE\"]] = (preds*scaler_std[0:4] + scaler_mean[0:4])"
      ],
      "metadata": {
        "id": "fUAFX4AiJm0E"
      },
      "execution_count": null,
      "outputs": []
    },
    {
      "cell_type": "code",
      "source": [
        "test_df"
      ],
      "metadata": {
        "colab": {
          "base_uri": "https://localhost:8080/",
          "height": 424
        },
        "id": "AR7YfxHeJm3q",
        "outputId": "6b96c989-fc21-4023-ec10-7227229a8696"
      },
      "execution_count": null,
      "outputs": [
        {
          "output_type": "execute_result",
          "data": {
            "text/plain": [
              "      Unnamed: 0                 date      open      high       low     close  \\\n",
              "0        1113091  2022-02-18 11:05:00  37539.00  37553.70  37539.00  37547.40   \n",
              "1        1113092  2022-02-18 11:06:00  37542.40  37572.70  37542.40  37571.05   \n",
              "2        1113093  2022-02-18 11:07:00  37575.95  37582.45  37564.10  37565.55   \n",
              "3        1113094  2022-02-18 11:08:00  37569.75  37577.05  37565.80  37569.65   \n",
              "4        1113095  2022-02-18 11:09:00  37571.95  37581.70  37569.90  37573.45   \n",
              "...          ...                  ...       ...       ...       ...       ...   \n",
              "9671     1122762  2022-03-30 09:45:00  36153.15  36181.90  36153.15  36175.50   \n",
              "9672     1122763  2022-03-30 09:46:00  36176.85  36180.55  36158.90  36170.25   \n",
              "9673     1122764  2022-03-30 09:47:00  36173.80  36185.10  36168.55  36172.95   \n",
              "9674     1122765  2022-03-30 09:48:00  36174.70  36182.50  36155.80  36156.45   \n",
              "9675     1122766  2022-03-30 09:49:00  36161.35  36172.70  36156.10  36167.80   \n",
              "\n",
              "         pred_OPEN     pred_HIGH      pred_LOW    pred_CLOSE  \n",
              "0     36672.141542  36701.776618  36561.592962  36572.539939  \n",
              "1     36669.265812  36698.664699  36558.754404  36569.770726  \n",
              "2     36663.154636  36691.871951  36552.717696  36564.847234  \n",
              "3     36663.703255  36692.655962  36553.541340  36565.500350  \n",
              "4     36659.680048  36688.569055  36549.752578  36562.082039  \n",
              "...            ...           ...           ...           ...  \n",
              "9671  35682.579154  35688.409738  35581.523962  35619.175987  \n",
              "9672  35684.303385  35690.317497  35583.306849  35620.459109  \n",
              "9673  35685.929147  35691.879488  35584.733160  35621.608594  \n",
              "9674  35687.681513  35693.693769  35586.547185  35623.280572  \n",
              "9675  35684.236064  35690.112449  35583.525818  35620.971554  \n",
              "\n",
              "[9676 rows x 10 columns]"
            ],
            "text/html": [
              "\n",
              "  <div id=\"df-b2847e3e-99cf-4282-a2c0-d0efba2770ed\">\n",
              "    <div class=\"colab-df-container\">\n",
              "      <div>\n",
              "<style scoped>\n",
              "    .dataframe tbody tr th:only-of-type {\n",
              "        vertical-align: middle;\n",
              "    }\n",
              "\n",
              "    .dataframe tbody tr th {\n",
              "        vertical-align: top;\n",
              "    }\n",
              "\n",
              "    .dataframe thead th {\n",
              "        text-align: right;\n",
              "    }\n",
              "</style>\n",
              "<table border=\"1\" class=\"dataframe\">\n",
              "  <thead>\n",
              "    <tr style=\"text-align: right;\">\n",
              "      <th></th>\n",
              "      <th>Unnamed: 0</th>\n",
              "      <th>date</th>\n",
              "      <th>open</th>\n",
              "      <th>high</th>\n",
              "      <th>low</th>\n",
              "      <th>close</th>\n",
              "      <th>pred_OPEN</th>\n",
              "      <th>pred_HIGH</th>\n",
              "      <th>pred_LOW</th>\n",
              "      <th>pred_CLOSE</th>\n",
              "    </tr>\n",
              "  </thead>\n",
              "  <tbody>\n",
              "    <tr>\n",
              "      <th>0</th>\n",
              "      <td>1113091</td>\n",
              "      <td>2022-02-18 11:05:00</td>\n",
              "      <td>37539.00</td>\n",
              "      <td>37553.70</td>\n",
              "      <td>37539.00</td>\n",
              "      <td>37547.40</td>\n",
              "      <td>36672.141542</td>\n",
              "      <td>36701.776618</td>\n",
              "      <td>36561.592962</td>\n",
              "      <td>36572.539939</td>\n",
              "    </tr>\n",
              "    <tr>\n",
              "      <th>1</th>\n",
              "      <td>1113092</td>\n",
              "      <td>2022-02-18 11:06:00</td>\n",
              "      <td>37542.40</td>\n",
              "      <td>37572.70</td>\n",
              "      <td>37542.40</td>\n",
              "      <td>37571.05</td>\n",
              "      <td>36669.265812</td>\n",
              "      <td>36698.664699</td>\n",
              "      <td>36558.754404</td>\n",
              "      <td>36569.770726</td>\n",
              "    </tr>\n",
              "    <tr>\n",
              "      <th>2</th>\n",
              "      <td>1113093</td>\n",
              "      <td>2022-02-18 11:07:00</td>\n",
              "      <td>37575.95</td>\n",
              "      <td>37582.45</td>\n",
              "      <td>37564.10</td>\n",
              "      <td>37565.55</td>\n",
              "      <td>36663.154636</td>\n",
              "      <td>36691.871951</td>\n",
              "      <td>36552.717696</td>\n",
              "      <td>36564.847234</td>\n",
              "    </tr>\n",
              "    <tr>\n",
              "      <th>3</th>\n",
              "      <td>1113094</td>\n",
              "      <td>2022-02-18 11:08:00</td>\n",
              "      <td>37569.75</td>\n",
              "      <td>37577.05</td>\n",
              "      <td>37565.80</td>\n",
              "      <td>37569.65</td>\n",
              "      <td>36663.703255</td>\n",
              "      <td>36692.655962</td>\n",
              "      <td>36553.541340</td>\n",
              "      <td>36565.500350</td>\n",
              "    </tr>\n",
              "    <tr>\n",
              "      <th>4</th>\n",
              "      <td>1113095</td>\n",
              "      <td>2022-02-18 11:09:00</td>\n",
              "      <td>37571.95</td>\n",
              "      <td>37581.70</td>\n",
              "      <td>37569.90</td>\n",
              "      <td>37573.45</td>\n",
              "      <td>36659.680048</td>\n",
              "      <td>36688.569055</td>\n",
              "      <td>36549.752578</td>\n",
              "      <td>36562.082039</td>\n",
              "    </tr>\n",
              "    <tr>\n",
              "      <th>...</th>\n",
              "      <td>...</td>\n",
              "      <td>...</td>\n",
              "      <td>...</td>\n",
              "      <td>...</td>\n",
              "      <td>...</td>\n",
              "      <td>...</td>\n",
              "      <td>...</td>\n",
              "      <td>...</td>\n",
              "      <td>...</td>\n",
              "      <td>...</td>\n",
              "    </tr>\n",
              "    <tr>\n",
              "      <th>9671</th>\n",
              "      <td>1122762</td>\n",
              "      <td>2022-03-30 09:45:00</td>\n",
              "      <td>36153.15</td>\n",
              "      <td>36181.90</td>\n",
              "      <td>36153.15</td>\n",
              "      <td>36175.50</td>\n",
              "      <td>35682.579154</td>\n",
              "      <td>35688.409738</td>\n",
              "      <td>35581.523962</td>\n",
              "      <td>35619.175987</td>\n",
              "    </tr>\n",
              "    <tr>\n",
              "      <th>9672</th>\n",
              "      <td>1122763</td>\n",
              "      <td>2022-03-30 09:46:00</td>\n",
              "      <td>36176.85</td>\n",
              "      <td>36180.55</td>\n",
              "      <td>36158.90</td>\n",
              "      <td>36170.25</td>\n",
              "      <td>35684.303385</td>\n",
              "      <td>35690.317497</td>\n",
              "      <td>35583.306849</td>\n",
              "      <td>35620.459109</td>\n",
              "    </tr>\n",
              "    <tr>\n",
              "      <th>9673</th>\n",
              "      <td>1122764</td>\n",
              "      <td>2022-03-30 09:47:00</td>\n",
              "      <td>36173.80</td>\n",
              "      <td>36185.10</td>\n",
              "      <td>36168.55</td>\n",
              "      <td>36172.95</td>\n",
              "      <td>35685.929147</td>\n",
              "      <td>35691.879488</td>\n",
              "      <td>35584.733160</td>\n",
              "      <td>35621.608594</td>\n",
              "    </tr>\n",
              "    <tr>\n",
              "      <th>9674</th>\n",
              "      <td>1122765</td>\n",
              "      <td>2022-03-30 09:48:00</td>\n",
              "      <td>36174.70</td>\n",
              "      <td>36182.50</td>\n",
              "      <td>36155.80</td>\n",
              "      <td>36156.45</td>\n",
              "      <td>35687.681513</td>\n",
              "      <td>35693.693769</td>\n",
              "      <td>35586.547185</td>\n",
              "      <td>35623.280572</td>\n",
              "    </tr>\n",
              "    <tr>\n",
              "      <th>9675</th>\n",
              "      <td>1122766</td>\n",
              "      <td>2022-03-30 09:49:00</td>\n",
              "      <td>36161.35</td>\n",
              "      <td>36172.70</td>\n",
              "      <td>36156.10</td>\n",
              "      <td>36167.80</td>\n",
              "      <td>35684.236064</td>\n",
              "      <td>35690.112449</td>\n",
              "      <td>35583.525818</td>\n",
              "      <td>35620.971554</td>\n",
              "    </tr>\n",
              "  </tbody>\n",
              "</table>\n",
              "<p>9676 rows × 10 columns</p>\n",
              "</div>\n",
              "      <button class=\"colab-df-convert\" onclick=\"convertToInteractive('df-b2847e3e-99cf-4282-a2c0-d0efba2770ed')\"\n",
              "              title=\"Convert this dataframe to an interactive table.\"\n",
              "              style=\"display:none;\">\n",
              "        \n",
              "  <svg xmlns=\"http://www.w3.org/2000/svg\" height=\"24px\"viewBox=\"0 0 24 24\"\n",
              "       width=\"24px\">\n",
              "    <path d=\"M0 0h24v24H0V0z\" fill=\"none\"/>\n",
              "    <path d=\"M18.56 5.44l.94 2.06.94-2.06 2.06-.94-2.06-.94-.94-2.06-.94 2.06-2.06.94zm-11 1L8.5 8.5l.94-2.06 2.06-.94-2.06-.94L8.5 2.5l-.94 2.06-2.06.94zm10 10l.94 2.06.94-2.06 2.06-.94-2.06-.94-.94-2.06-.94 2.06-2.06.94z\"/><path d=\"M17.41 7.96l-1.37-1.37c-.4-.4-.92-.59-1.43-.59-.52 0-1.04.2-1.43.59L10.3 9.45l-7.72 7.72c-.78.78-.78 2.05 0 2.83L4 21.41c.39.39.9.59 1.41.59.51 0 1.02-.2 1.41-.59l7.78-7.78 2.81-2.81c.8-.78.8-2.07 0-2.86zM5.41 20L4 18.59l7.72-7.72 1.47 1.35L5.41 20z\"/>\n",
              "  </svg>\n",
              "      </button>\n",
              "      \n",
              "  <style>\n",
              "    .colab-df-container {\n",
              "      display:flex;\n",
              "      flex-wrap:wrap;\n",
              "      gap: 12px;\n",
              "    }\n",
              "\n",
              "    .colab-df-convert {\n",
              "      background-color: #E8F0FE;\n",
              "      border: none;\n",
              "      border-radius: 50%;\n",
              "      cursor: pointer;\n",
              "      display: none;\n",
              "      fill: #1967D2;\n",
              "      height: 32px;\n",
              "      padding: 0 0 0 0;\n",
              "      width: 32px;\n",
              "    }\n",
              "\n",
              "    .colab-df-convert:hover {\n",
              "      background-color: #E2EBFA;\n",
              "      box-shadow: 0px 1px 2px rgba(60, 64, 67, 0.3), 0px 1px 3px 1px rgba(60, 64, 67, 0.15);\n",
              "      fill: #174EA6;\n",
              "    }\n",
              "\n",
              "    [theme=dark] .colab-df-convert {\n",
              "      background-color: #3B4455;\n",
              "      fill: #D2E3FC;\n",
              "    }\n",
              "\n",
              "    [theme=dark] .colab-df-convert:hover {\n",
              "      background-color: #434B5C;\n",
              "      box-shadow: 0px 1px 3px 1px rgba(0, 0, 0, 0.15);\n",
              "      filter: drop-shadow(0px 1px 2px rgba(0, 0, 0, 0.3));\n",
              "      fill: #FFFFFF;\n",
              "    }\n",
              "  </style>\n",
              "\n",
              "      <script>\n",
              "        const buttonEl =\n",
              "          document.querySelector('#df-b2847e3e-99cf-4282-a2c0-d0efba2770ed button.colab-df-convert');\n",
              "        buttonEl.style.display =\n",
              "          google.colab.kernel.accessAllowed ? 'block' : 'none';\n",
              "\n",
              "        async function convertToInteractive(key) {\n",
              "          const element = document.querySelector('#df-b2847e3e-99cf-4282-a2c0-d0efba2770ed');\n",
              "          const dataTable =\n",
              "            await google.colab.kernel.invokeFunction('convertToInteractive',\n",
              "                                                     [key], {});\n",
              "          if (!dataTable) return;\n",
              "\n",
              "          const docLinkHtml = 'Like what you see? Visit the ' +\n",
              "            '<a target=\"_blank\" href=https://colab.research.google.com/notebooks/data_table.ipynb>data table notebook</a>'\n",
              "            + ' to learn more about interactive tables.';\n",
              "          element.innerHTML = '';\n",
              "          dataTable['output_type'] = 'display_data';\n",
              "          await google.colab.output.renderOutput(dataTable, element);\n",
              "          const docLink = document.createElement('div');\n",
              "          docLink.innerHTML = docLinkHtml;\n",
              "          element.appendChild(docLink);\n",
              "        }\n",
              "      </script>\n",
              "    </div>\n",
              "  </div>\n",
              "  "
            ]
          },
          "metadata": {},
          "execution_count": 53
        }
      ]
    },
    {
      "cell_type": "code",
      "source": [
        "test_df.to_csv(\"outputs_full.csv\", encoding=\"utf-8\")"
      ],
      "metadata": {
        "id": "aGs_oOzmJm6x"
      },
      "execution_count": null,
      "outputs": []
    },
    {
      "cell_type": "code",
      "source": [
        "test_df[[\"date\", \"pred_OPEN\", \"pred_HIGH\", \"pred_LOW\", \"pred_CLOSE\"]].to_csv(\"BANKNIFTY_+2hours_prediction_iTrade.csv\", encoding=\"utf-8\")"
      ],
      "metadata": {
        "id": "7LT2JCxIomMn"
      },
      "execution_count": null,
      "outputs": []
    },
    {
      "cell_type": "code",
      "source": [
        "model.evaluate(dataset_val)"
      ],
      "metadata": {
        "id": "ri6ST_qR00ic",
        "colab": {
          "base_uri": "https://localhost:8080/"
        },
        "outputId": "ed9850cf-1011-4e3c-a6cd-ac7dd070b105"
      },
      "execution_count": null,
      "outputs": [
        {
          "output_type": "stream",
          "name": "stdout",
          "text": [
            "303/303 [==============================] - 4s 14ms/step - loss: 0.0059\n"
          ]
        },
        {
          "output_type": "execute_result",
          "data": {
            "text/plain": [
              "0.005873699672520161"
            ]
          },
          "metadata": {},
          "execution_count": 56
        }
      ]
    },
    {
      "cell_type": "code",
      "source": [],
      "metadata": {
        "id": "IBYpj-EGxqiC"
      },
      "execution_count": null,
      "outputs": []
    }
  ]
}